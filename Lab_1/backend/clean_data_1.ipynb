{
 "cells": [
  {
   "cell_type": "code",
   "execution_count": 1,
   "metadata": {},
   "outputs": [
    {
     "name": "stdout",
     "output_type": "stream",
     "text": [
      "SCHEMA               TABELL               KOLUMNNAMN\n",
      "Datum                Tabelldata           ['Datum' 'Visningar' 'Visningstid (timmar)' 'Genomsnittlig visningslängd']\n",
      "Datum                Totalt               ['Datum' 'Visningar']\n",
      "Enhetstyp            Diagramdata          ['Datum' 'Enhetstyp' 'Visningar']\n",
      "Enhetstyp            Tabelldata           ['Enhetstyp' 'Visningar' 'Visningstid (timmar)'\n",
      " 'Genomsnittlig visningslängd']\n",
      "Enhetstyp            Totalt               ['Datum' 'Visningar']\n",
      "Geografi             Diagramdata          ['Datum' 'Geografi' 'Visningar']\n",
      "Geografi             Tabelldata           ['Geografi' 'Visningar' 'Visningstid (timmar)'\n",
      " 'Genomsnittlig visningslängd']\n",
      "Geografi             Totalt               ['Datum' 'Visningar']\n",
      "Innehåll             Diagramdata          ['Datum' 'Innehåll' 'Videotitel' 'Publiceringstid för video' 'Visningar']\n",
      "Innehåll             Tabelldata           ['Innehåll' 'Videotitel' 'Publiceringstid för video' 'Visningar'\n",
      " 'Visningstid (timmar)' 'Prenumeranter' 'Exponeringar'\n",
      " 'Klickfrekvens för exponeringar (%)']\n",
      "Innehåll             Totalt               ['Datum' 'Visningar']\n",
      "Innehållstyp         Diagramdata          ['Datum' 'Innehållstyp' 'Visningar']\n",
      "Innehållstyp         Tabelldata           ['Innehållstyp' 'Visningar' 'Visningstid (timmar)'\n",
      " 'Genomsnittlig visningslängd']\n",
      "Innehållstyp         Totalt               ['Datum' 'Visningar']\n",
      "Operativsystem       Diagramdata          ['Datum' 'Operativsystem' 'Visningar']\n",
      "Operativsystem       Tabelldata           ['Operativsystem' 'Visningar' 'Visningstid (timmar)'\n",
      " 'Genomsnittlig visningslängd']\n",
      "Operativsystem       Totalt               ['Datum' 'Visningar']\n",
      "Prenumerationskälla  Diagramdata          ['Datum' 'Prenumerationskälla' 'Prenumeranter']\n",
      "Prenumerationskälla  Tabelldata           ['Prenumerationskälla' 'Prenumeranter' 'Nya prenumeranter'\n",
      " 'Förlorade prenumeranter']\n",
      "Prenumerationskälla  Totalt               ['Datum' 'Prenumeranter']\n",
      "Prenumerationsstatus Diagramdata          ['Datum' 'Prenumerationsstatus' 'Visningar']\n",
      "Prenumerationsstatus Tabelldata           ['Prenumerationsstatus' 'Visningar' 'Visningstid (timmar)'\n",
      " 'Genomsnittlig visningslängd']\n",
      "Prenumerationsstatus Totalt               ['Datum' 'Visningar']\n",
      "Städer               Diagramdata          ['Datum' 'Städer' 'Ort' 'Visningar']\n",
      "Städer               Tabelldata           ['Städer' 'Ort' 'Visningar' 'Visningstid (timmar)'\n",
      " 'Genomsnittlig visningslängd']\n",
      "Städer               Totalt               ['Datum' 'Visningar']\n",
      "Tittare              Tabelldata_alder     ['Tittarnas kön' 'Visningar (%)' 'Genomsnittlig visningslängd'\n",
      " 'Genomsnittlig procent som har visats (%)' 'Visningstid (timmar) (%)']\n",
      "Tittare              Tabelldata_kon       ['Tittarnas ålder' 'Visningar (%)' 'Genomsnittlig visningslängd'\n",
      " 'Genomsnittlig procent som har visats (%)' 'Visningstid (timmar) (%)']\n",
      "Trafikkälla          Diagramdata          ['Datum' 'Trafikkälla' 'Visningar']\n",
      "Trafikkälla          Tabelldata           ['Trafikkälla' 'Visningar' 'Visningstid (timmar)'\n",
      " 'Genomsnittlig visningslängd' 'Exponeringar'\n",
      " 'Klickfrekvens för exponeringar (%)']\n",
      "Trafikkälla          Totalt               ['Datum' 'Visningar']\n",
      "\n"
     ]
    }
   ],
   "source": [
    "from pathlib import Path\n",
    "import pandas as pd \n",
    "\n",
    "#Här fick jag hjälp av ett proffs på stackoverflow för att lösa problemet med att få ut kolumnnamnen från alla filer i alla mappar\n",
    "\n",
    "data = f\"{'SCHEMA':<20} {'TABELL':<20} KOLUMNNAMN\\n\"\n",
    "\n",
    "for path in Path(\"cleaned_data\").glob(\"*\"):\n",
    "    schema = path.name\n",
    "    for csv_path in path.glob(\"*\"):\n",
    "        df = pd.read_csv(csv_path)\n",
    "        data += f\"{schema:<20} {csv_path.name.split('.')[0]:<20} {df.columns.values}\\n\"\n",
    "\n",
    "with open(\"kolumn_namn.txt\", \"w\") as file:\n",
    "    file.write(data)\n",
    "\n",
    "print(data)\n"
   ]
  },
  {
   "cell_type": "code",
   "execution_count": null,
   "metadata": {},
   "outputs": [],
   "source": []
  }
 ],
 "metadata": {
  "kernelspec": {
   "display_name": ".venv",
   "language": "python",
   "name": "python3"
  },
  "language_info": {
   "codemirror_mode": {
    "name": "ipython",
    "version": 3
   },
   "file_extension": ".py",
   "mimetype": "text/x-python",
   "name": "python",
   "nbconvert_exporter": "python",
   "pygments_lexer": "ipython3",
   "version": "3.11.9"
  }
 },
 "nbformat": 4,
 "nbformat_minor": 2
}
