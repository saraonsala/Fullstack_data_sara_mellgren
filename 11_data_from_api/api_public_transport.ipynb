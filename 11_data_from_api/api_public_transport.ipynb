{
 "cells": [
  {
   "cell_type": "markdown",
   "metadata": {},
   "source": [
    "<div style=\"max-width:66ch;\">\n",
    "\n",
    "# Lecture notes - EDA on public transport API\n",
    "\n",
    "This is the lecture note for working with **APIs**. We will dive into doing get requests from trafiklab API to get public transport data.\n",
    "\n",
    "In this lecture we'll cover\n",
    "\n",
    "- trafiklab API\n",
    "- working with .env\n",
    "- working with json data\n",
    "\n",
    "<p class = \"alert alert-info\" role=\"alert\"><b>Note</b> that this lecture note gives a brief introduction to API and how to work with it. I encourage you to read further about APIs.\n",
    "\n",
    "</div>\n"
   ]
  },
  {
   "cell_type": "markdown",
   "metadata": {},
   "source": [
    "## Routeplanner\n",
    "\n",
    "- [ResRobot Route planner API](https://www.trafiklab.se/api/trafiklab-apis/resrobot-v21/route-planner/)\n",
    "\n",
    "- note that you need a .env file where you will store your API key for ResRobot\n",
    "- also make sure that your .gitignore includes .env so that it is not pushed to your github repo"
   ]
  },
  {
   "cell_type": "code",
   "execution_count": 3,
   "metadata": {},
   "outputs": [
    {
     "data": {
      "text/plain": [
       "dict_keys(['Trip', 'ResultStatus', 'TechnicalMessages', 'serverVersion', 'dialectVersion', 'planRtTs', 'requestId', 'scrB', 'scrF'])"
      ]
     },
     "execution_count": 3,
     "metadata": {},
     "output_type": "execute_result"
    }
   ],
   "source": [
    "from dotenv import load_dotenv\n",
    "import os\n",
    "import requests\n",
    "\n",
    "load_dotenv()\n",
    "\n",
    "API_KEY = os.getenv(\"API_KEY\")\n",
    "\n",
    "def get_trips(origin_id=740000001, destination_id=740098001):\n",
    "    \"\"\"origing_id and destination_id can be found from Stop lookup API\"\"\"\n",
    "    url = f\"https://api.resrobot.se/v2.1/trip?format=json&originId={origin_id}&destId={destination_id}&passlist=true&showPassingPoints=true&accessId={API_KEY}\"\n",
    "\n",
    "    try:\n",
    "        response = requests.get(url)\n",
    "        response.raise_for_status()\n",
    "\n",
    "        return response.json()\n",
    "    except requests.exceptions.RequestException as err:\n",
    "        print(f\"Network or HTTP error: {err}\")\n",
    "\n",
    "\n",
    "result = get_trips()\n",
    "result.keys()"
   ]
  },
  {
   "cell_type": "code",
   "execution_count": 4,
   "metadata": {},
   "outputs": [
    {
     "data": {
      "text/plain": [
       "11"
      ]
     },
     "execution_count": 4,
     "metadata": {},
     "output_type": "execute_result"
    }
   ],
   "source": [
    "# check how many trips there are\n",
    "len(result[\"Trip\"])"
   ]
  },
  {
   "cell_type": "code",
   "execution_count": 5,
   "metadata": {},
   "outputs": [
    {
     "data": {
      "text/plain": [
       "dict_keys(['Origin', 'Destination', 'ServiceDays', 'LegList', 'calculation', 'TripStatus', 'idx', 'tripId', 'ctxRecon', 'duration', 'rtDuration', 'checksum'])"
      ]
     },
     "execution_count": 5,
     "metadata": {},
     "output_type": "execute_result"
    }
   ],
   "source": [
    "# checks first trip keys\n",
    "example_trip = result[\"Trip\"][0]\n",
    "example_trip.keys()"
   ]
  },
  {
   "cell_type": "code",
   "execution_count": 6,
   "metadata": {},
   "outputs": [
    {
     "data": {
      "text/plain": [
       "{'name': 'Stockholm Centralstation',\n",
       " 'type': 'ST',\n",
       " 'id': 'A=1@O=Stockholm Centralstation@X=18058151@Y=59330136@U=1@L=740000001@',\n",
       " 'extId': '740000001',\n",
       " 'lon': 18.058151,\n",
       " 'lat': 59.330136,\n",
       " 'routeIdx': 0,\n",
       " 'prognosisType': 'PROGNOSED',\n",
       " 'time': '21:12:00',\n",
       " 'date': '2025-01-06',\n",
       " 'minimumChangeDuration': 'PT20M'}"
      ]
     },
     "execution_count": 6,
     "metadata": {},
     "output_type": "execute_result"
    }
   ],
   "source": [
    "example_trip[\"Origin\"]"
   ]
  },
  {
   "cell_type": "code",
   "execution_count": 7,
   "metadata": {},
   "outputs": [
    {
     "data": {
      "text/plain": [
       "{'name': 'Göteborg Centralstation',\n",
       " 'type': 'ST',\n",
       " 'id': 'A=1@O=Göteborg Centralstation@X=11973479@Y=57708895@U=1@L=740000002@',\n",
       " 'extId': '740000002',\n",
       " 'lon': 11.973479,\n",
       " 'lat': 57.708895,\n",
       " 'routeIdx': 3,\n",
       " 'prognosisType': 'PROGNOSED',\n",
       " 'time': '00:41:00',\n",
       " 'date': '2025-01-07',\n",
       " 'minimumChangeDuration': 'PT15M'}"
      ]
     },
     "execution_count": 7,
     "metadata": {},
     "output_type": "execute_result"
    }
   ],
   "source": [
    "example_trip[\"Destination\"]"
   ]
  },
  {
   "cell_type": "code",
   "execution_count": 8,
   "metadata": {},
   "outputs": [
    {
     "data": {
      "text/plain": [
       "{'hintCode': 0}"
      ]
     },
     "execution_count": 8,
     "metadata": {},
     "output_type": "execute_result"
    }
   ],
   "source": [
    "example_trip[\"TripStatus\"]"
   ]
  },
  {
   "cell_type": "code",
   "execution_count": 9,
   "metadata": {},
   "outputs": [
    {
     "data": {
      "text/plain": [
       "[{'planningPeriodBegin': '2024-12-11',\n",
       "  'planningPeriodEnd': '2025-06-15',\n",
       "  'sDaysR': 'inte varje dag',\n",
       "  'sDaysI': '6. jan t o m 9. jun 2025 mån - tor, sön; 10. jan t o m 14. mar 2025 mån - fre, sön; utom 23. t o m 30. mar 2025, 17. t o m 21. apr 2025, 30. apr t o m 4. maj 2025, 18. maj, 28. maj t o m 1. jun 2025; och 25. apr',\n",
       "  'sDaysB': '0000007EFDFBF7EFDFBF7EFDF003CF9E0F7079F1E7079800'}]"
      ]
     },
     "execution_count": 9,
     "metadata": {},
     "output_type": "execute_result"
    }
   ],
   "source": [
    "example_trip[\"ServiceDays\"]"
   ]
  },
  {
   "cell_type": "code",
   "execution_count": 10,
   "metadata": {},
   "outputs": [
    {
     "data": {
      "text/plain": [
       "dict_keys(['Leg'])"
      ]
     },
     "execution_count": 10,
     "metadata": {},
     "output_type": "execute_result"
    }
   ],
   "source": [
    "example_trip[\"LegList\"].keys()"
   ]
  },
  {
   "cell_type": "code",
   "execution_count": 11,
   "metadata": {},
   "outputs": [
    {
     "data": {
      "text/plain": [
       "1"
      ]
     },
     "execution_count": 11,
     "metadata": {},
     "output_type": "execute_result"
    }
   ],
   "source": [
    "len(example_trip[\"LegList\"][\"Leg\"])"
   ]
  },
  {
   "cell_type": "code",
   "execution_count": 12,
   "metadata": {},
   "outputs": [
    {
     "data": {
      "text/plain": [
       "dict_keys(['Origin', 'Destination', 'Notes', 'JourneyDetailRef', 'JourneyStatus', 'Product', 'Stops', 'JourneyDetail', 'id', 'idx', 'name', 'number', 'category', 'type', 'reachable', 'waitingState', 'direction', 'directionFlag', 'duration'])"
      ]
     },
     "execution_count": 12,
     "metadata": {},
     "output_type": "execute_result"
    }
   ],
   "source": [
    "example_trip[\"LegList\"][\"Leg\"][0].keys()"
   ]
  },
  {
   "cell_type": "code",
   "execution_count": 13,
   "metadata": {},
   "outputs": [
    {
     "data": {
      "text/plain": [
       "[{'name': 'Stockholm Centralstation',\n",
       "  'id': 'A=1@O=Stockholm Centralstation@X=18058151@Y=59330136@U=1@L=740000001@',\n",
       "  'extId': '740000001',\n",
       "  'routeIdx': 0,\n",
       "  'lon': 18.058151,\n",
       "  'lat': 59.330136,\n",
       "  'depPrognosisType': 'PROGNOSED',\n",
       "  'depTime': '21:12:00',\n",
       "  'depDate': '2025-01-06',\n",
       "  'depDir': 'Göteborg Centralstation',\n",
       "  'minimumChangeDuration': 'PT20M'},\n",
       " {'name': 'Katrineholm Centralstation',\n",
       "  'id': 'A=1@O=Katrineholm Centralstation@X=16208324@Y=58996591@U=1@L=740000166@',\n",
       "  'extId': '740000166',\n",
       "  'routeIdx': 1,\n",
       "  'lon': 16.208324,\n",
       "  'lat': 58.996591,\n",
       "  'depTime': '22:05:00',\n",
       "  'depDate': '2025-01-06',\n",
       "  'arrTime': '22:04:00',\n",
       "  'arrDate': '2025-01-06',\n",
       "  'minimumChangeDuration': 'PT10M'},\n",
       " {'name': 'Skövde Centralstation',\n",
       "  'id': 'A=1@O=Skövde Centralstation@X=13853195@Y=58390898@U=1@L=740000008@',\n",
       "  'extId': '740000008',\n",
       "  'routeIdx': 2,\n",
       "  'lon': 13.853195,\n",
       "  'lat': 58.390898,\n",
       "  'depTime': '23:22:00',\n",
       "  'depDate': '2025-01-06',\n",
       "  'arrTime': '23:22:00',\n",
       "  'arrDate': '2025-01-06',\n",
       "  'minimumChangeDuration': 'PT10M'},\n",
       " {'name': 'Göteborg Centralstation',\n",
       "  'id': 'A=1@O=Göteborg Centralstation@X=11973479@Y=57708895@U=1@L=740000002@',\n",
       "  'extId': '740000002',\n",
       "  'routeIdx': 3,\n",
       "  'lon': 11.973479,\n",
       "  'lat': 57.708895,\n",
       "  'arrPrognosisType': 'PROGNOSED',\n",
       "  'arrTime': '00:41:00',\n",
       "  'arrDate': '2025-01-07',\n",
       "  'minimumChangeDuration': 'PT15M'}]"
      ]
     },
     "execution_count": 13,
     "metadata": {},
     "output_type": "execute_result"
    }
   ],
   "source": [
    "example_stops = example_trip[\"LegList\"][\"Leg\"][0][\"Stops\"][\"Stop\"]\n",
    "example_stops"
   ]
  },
  {
   "cell_type": "code",
   "execution_count": 15,
   "metadata": {},
   "outputs": [
    {
     "data": {
      "text/plain": [
       "[{'Stockholm Centralstation': None},\n",
       " {'Katrineholm Centralstation': '22:04:00'},\n",
       " {'Skövde Centralstation': '23:22:00'},\n",
       " {'Göteborg Centralstation': '00:41:00'}]"
      ]
     },
     "execution_count": 15,
     "metadata": {},
     "output_type": "execute_result"
    }
   ],
   "source": [
    "[{stop.get(\"name\"): stop.get(\"arrTime\")} for stop in example_stops]"
   ]
  },
  {
   "cell_type": "markdown",
   "metadata": {},
   "source": [
    "## Stop lookup API to find id\n",
    "\n",
    "- [ResRobot Stop lookup API](https://www.trafiklab.se/api/trafiklab-apis/resrobot-v21/stop-lookup/)\n",
    "\n",
    "We will work our way to creating a function to find the id based on location\n",
    "\n",
    "\n"
   ]
  },
  {
   "cell_type": "code",
   "execution_count": 16,
   "metadata": {},
   "outputs": [
    {
     "data": {
      "text/plain": [
       "dict_keys(['stopLocationOrCoordLocation', 'TechnicalMessages', 'serverVersion', 'dialectVersion', 'requestId'])"
      ]
     },
     "execution_count": 16,
     "metadata": {},
     "output_type": "execute_result"
    }
   ],
   "source": [
    "location = \"göteborg\"\n",
    "url = f\"https://api.resrobot.se/v2.1/location.name?input={location}&format=json&accessId={API_KEY}\"\n",
    "response = requests.get(url)\n",
    "result = response.json()\n",
    "result.keys()"
   ]
  },
  {
   "cell_type": "code",
   "execution_count": 17,
   "metadata": {},
   "outputs": [
    {
     "data": {
      "text/plain": [
       "10"
      ]
     },
     "execution_count": 17,
     "metadata": {},
     "output_type": "execute_result"
    }
   ],
   "source": [
    "stop_locations = result[\"stopLocationOrCoordLocation\"]\n",
    "len(stop_locations)"
   ]
  },
  {
   "cell_type": "code",
   "execution_count": 18,
   "metadata": {},
   "outputs": [
    {
     "data": {
      "text/plain": [
       "{'StopLocation': {'productAtStop': [{'icon': {'res': 'prod_gen'}, 'cls': '2'},\n",
       "   {'icon': {'res': 'prod_gen'}, 'cls': '4'},\n",
       "   {'icon': {'res': 'prod_gen'}, 'cls': '8'},\n",
       "   {'icon': {'res': 'prod_gen'}, 'cls': '16'},\n",
       "   {'icon': {'res': 'prod_gen'}, 'cls': '64'},\n",
       "   {'icon': {'res': 'prod_gen'}, 'cls': '128'},\n",
       "   {'icon': {'res': 'prod_gen'}, 'cls': '256'}],\n",
       "  'timezoneOffset': 60,\n",
       "  'id': 'A=1@O=GÖTEBORG@X=11973479@Y=57708895@U=1@L=740098001@B=1@p=1736138202@',\n",
       "  'extId': '740098001',\n",
       "  'name': 'GÖTEBORG',\n",
       "  'lon': 11.973479,\n",
       "  'lat': 57.708895,\n",
       "  'weight': 15424,\n",
       "  'products': 222,\n",
       "  'meta': True,\n",
       "  'minimumChangeDuration': 'PT26M'}}"
      ]
     },
     "execution_count": 18,
     "metadata": {},
     "output_type": "execute_result"
    }
   ],
   "source": [
    "stop_locations[0]"
   ]
  },
  {
   "cell_type": "code",
   "execution_count": 19,
   "metadata": {},
   "outputs": [
    {
     "data": {
      "text/plain": [
       "dict_keys(['productAtStop', 'timezoneOffset', 'id', 'extId', 'name', 'lon', 'lat', 'weight', 'products', 'meta', 'minimumChangeDuration'])"
      ]
     },
     "execution_count": 19,
     "metadata": {},
     "output_type": "execute_result"
    }
   ],
   "source": [
    "stop_locations[0][\"StopLocation\"].keys()"
   ]
  },
  {
   "cell_type": "code",
   "execution_count": 20,
   "metadata": {},
   "outputs": [
    {
     "data": {
      "text/plain": [
       "'GÖTEBORG'"
      ]
     },
     "execution_count": 20,
     "metadata": {},
     "output_type": "execute_result"
    }
   ],
   "source": [
    "stop_locations[0][\"StopLocation\"][\"name\"]"
   ]
  },
  {
   "cell_type": "code",
   "execution_count": 21,
   "metadata": {},
   "outputs": [
    {
     "name": "stdout",
     "output_type": "stream",
     "text": [
      "Stop                                               extId\n",
      "GÖTEBORG                                           740098001\n",
      "Göteborg Centralstation                            740000002\n",
      "Göteborg Sävenäs lokstation                        740016365\n",
      "GÖTEBORG GAMLESTADEN                               740098526\n",
      "Göteborg Korsvägen                                 740015578\n",
      "Göteborg Kungsportsplatsen                         740016358\n",
      "Göteborg Stenpiren                                 740072430\n",
      "Göteborg Eketrägatan                               740025624\n",
      "Göteborg Vårväderstorget                           740025707\n",
      "Göteborg Axel Dahlströms torg                      740025608\n"
     ]
    }
   ],
   "source": [
    "# :<50  -> left align in a 50-character wide field\n",
    "print(f\"{'Stop':<50} {'extId'}\")\n",
    "for stop_location in stop_locations:\n",
    "    stop = stop_location[\"StopLocation\"]\n",
    "    print(f\"{stop.get('name'):<50} {stop.get('extId')}\")"
   ]
  },
  {
   "cell_type": "code",
   "execution_count": 22,
   "metadata": {},
   "outputs": [
    {
     "name": "stdout",
     "output_type": "stream",
     "text": [
      "Name                                               extId\n",
      "Malm (Gullspång kn)                                740062061\n",
      "Malmö Centralstation                               740000003\n",
      "Malmö Triangeln station                            740001587\n",
      "Malmö Hyllie station                               740001586\n",
      "Malmö Svågertorp station                           740001546\n",
      "Malmö Persborg station                             740001486\n",
      "MALMÖ                                              740098548\n",
      "Malmö Rosengård station                            740001621\n",
      "Malmö Östervärn station                            740001483\n",
      "Malmö Fosieby station                              740001553\n"
     ]
    }
   ],
   "source": [
    "def access_id_from_location(location):\n",
    "    url = f\"https://api.resrobot.se/v2.1/location.name?input={location}&format=json&accessId={API_KEY}\"\n",
    "\n",
    "    try:\n",
    "        response = requests.get(url)\n",
    "        result = response.json()\n",
    "\n",
    "        print(f\"{'Name':<50} extId\")\n",
    "\n",
    "        for stop in result.get(\"stopLocationOrCoordLocation\"):\n",
    "            stop_data = next(iter(stop.values()))\n",
    "\n",
    "            # returns None if extId doesn't exist\n",
    "            if stop_data.get(\"extId\"):\n",
    "                print(f\"{stop_data['name']:<50} {stop_data['extId']}\")\n",
    "\n",
    "    except requests.exceptions.RequestException as err:\n",
    "        print(f\"Network or HTTP error: {err}\")\n",
    "\n",
    "access_id_from_location(\"malm\")"
   ]
  },
  {
   "cell_type": "markdown",
   "metadata": {},
   "source": [
    "## Time tables\n",
    "- [ResRobot Timetables](https://www.trafiklab.se/api/trafiklab-apis/resrobot-v21/timetables/)\n",
    "\n",
    "Here I use pandas to read the json data, I'll leave it to you to make it into a function and find out relevant information"
   ]
  },
  {
   "cell_type": "code",
   "execution_count": 23,
   "metadata": {},
   "outputs": [
    {
     "data": {
      "text/plain": [
       "dict_keys(['Departure', 'TechnicalMessages', 'serverVersion', 'dialectVersion', 'planRtTs', 'requestId'])"
      ]
     },
     "execution_count": 23,
     "metadata": {},
     "output_type": "execute_result"
    }
   ],
   "source": [
    "# korsvägen\n",
    "stop_id=740015578\n",
    "url = f\"https://api.resrobot.se/v2.1/departureBoard?id={stop_id}&format=json&accessId={API_KEY}\"\n",
    "\n",
    "response = requests.get(url)\n",
    "results = response.json()\n",
    "results.keys()"
   ]
  },
  {
   "cell_type": "code",
   "execution_count": 24,
   "metadata": {},
   "outputs": [
    {
     "data": {
      "text/html": [
       "<div>\n",
       "<style scoped>\n",
       "    .dataframe tbody tr th:only-of-type {\n",
       "        vertical-align: middle;\n",
       "    }\n",
       "\n",
       "    .dataframe tbody tr th {\n",
       "        vertical-align: top;\n",
       "    }\n",
       "\n",
       "    .dataframe thead th {\n",
       "        text-align: right;\n",
       "    }\n",
       "</style>\n",
       "<table border=\"1\" class=\"dataframe\">\n",
       "  <thead>\n",
       "    <tr style=\"text-align: right;\">\n",
       "      <th></th>\n",
       "      <th>JourneyDetailRef</th>\n",
       "      <th>JourneyStatus</th>\n",
       "      <th>ProductAtStop</th>\n",
       "      <th>Product</th>\n",
       "      <th>Notes</th>\n",
       "      <th>name</th>\n",
       "      <th>type</th>\n",
       "      <th>stop</th>\n",
       "      <th>stopid</th>\n",
       "      <th>stopExtId</th>\n",
       "      <th>lon</th>\n",
       "      <th>lat</th>\n",
       "      <th>time</th>\n",
       "      <th>date</th>\n",
       "      <th>reachable</th>\n",
       "      <th>direction</th>\n",
       "      <th>directionFlag</th>\n",
       "    </tr>\n",
       "  </thead>\n",
       "  <tbody>\n",
       "    <tr>\n",
       "      <th>0</th>\n",
       "      <td>{'ref': '1|64328|4|1|6012025'}</td>\n",
       "      <td>P</td>\n",
       "      <td>{'icon': {'res': 'prod_gen'}, 'operatorInfo': ...</td>\n",
       "      <td>[{'icon': {'res': 'prod_gen'}, 'operatorInfo':...</td>\n",
       "      <td>{'Note': [{'value': 'Lag 2015:953 tillämpas', ...</td>\n",
       "      <td>Länstrafik - Spårväg 8</td>\n",
       "      <td>ST</td>\n",
       "      <td>Göteborg Korsvägen</td>\n",
       "      <td>A=1@O=Göteborg Korsvägen@X=11986918@Y=57696742...</td>\n",
       "      <td>740015578</td>\n",
       "      <td>11.986918</td>\n",
       "      <td>57.696742</td>\n",
       "      <td>20:25:00</td>\n",
       "      <td>2025-01-06</td>\n",
       "      <td>True</td>\n",
       "      <td>Angered centrum (Göteborg kn)</td>\n",
       "      <td>1</td>\n",
       "    </tr>\n",
       "    <tr>\n",
       "      <th>1</th>\n",
       "      <td>{'ref': '1|116907|4|1|6012025'}</td>\n",
       "      <td>P</td>\n",
       "      <td>{'icon': {'res': 'prod_gen'}, 'operatorInfo': ...</td>\n",
       "      <td>[{'icon': {'res': 'prod_gen'}, 'operatorInfo':...</td>\n",
       "      <td>{'Note': [{'value': 'Lag 2015:953 tillämpas', ...</td>\n",
       "      <td>Länstrafik - Buss 18</td>\n",
       "      <td>ST</td>\n",
       "      <td>Göteborg Korsvägen</td>\n",
       "      <td>A=1@O=Göteborg Korsvägen@X=11986918@Y=57696742...</td>\n",
       "      <td>740015578</td>\n",
       "      <td>11.986918</td>\n",
       "      <td>57.696742</td>\n",
       "      <td>20:25:00</td>\n",
       "      <td>2025-01-06</td>\n",
       "      <td>True</td>\n",
       "      <td>Körkarlens gata (Göteborg kn)</td>\n",
       "      <td>2</td>\n",
       "    </tr>\n",
       "    <tr>\n",
       "      <th>2</th>\n",
       "      <td>{'ref': '1|168713|0|1|6012025'}</td>\n",
       "      <td>P</td>\n",
       "      <td>{'icon': {'res': 'prod_gen'}, 'operatorInfo': ...</td>\n",
       "      <td>[{'icon': {'res': 'prod_gen'}, 'operatorInfo':...</td>\n",
       "      <td>{'Note': [{'value': 'Lag 2015:953 tillämpas', ...</td>\n",
       "      <td>Länstrafik - Spårväg 5</td>\n",
       "      <td>ST</td>\n",
       "      <td>Göteborg Korsvägen</td>\n",
       "      <td>A=1@O=Göteborg Korsvägen@X=11986918@Y=57696742...</td>\n",
       "      <td>740015578</td>\n",
       "      <td>11.986918</td>\n",
       "      <td>57.696742</td>\n",
       "      <td>20:25:00</td>\n",
       "      <td>2025-01-06</td>\n",
       "      <td>True</td>\n",
       "      <td>Göteborg Östra sjukhuset</td>\n",
       "      <td>1</td>\n",
       "    </tr>\n",
       "    <tr>\n",
       "      <th>3</th>\n",
       "      <td>{'ref': '1|64328|4|1|6012025'}</td>\n",
       "      <td>P</td>\n",
       "      <td>{'icon': {'res': 'prod_gen'}, 'operatorInfo': ...</td>\n",
       "      <td>[{'icon': {'res': 'prod_gen'}, 'operatorInfo':...</td>\n",
       "      <td>{'Note': [{'value': 'Lag 2015:953 tillämpas', ...</td>\n",
       "      <td>Länstrafik - Spårväg 8</td>\n",
       "      <td>ST</td>\n",
       "      <td>Göteborg Scandinavium</td>\n",
       "      <td>A=1@O=Göteborg Scandinavium@X=11985875@Y=57700...</td>\n",
       "      <td>740025681</td>\n",
       "      <td>11.985875</td>\n",
       "      <td>57.700445</td>\n",
       "      <td>20:26:00</td>\n",
       "      <td>2025-01-06</td>\n",
       "      <td>True</td>\n",
       "      <td>Angered centrum (Göteborg kn)</td>\n",
       "      <td>1</td>\n",
       "    </tr>\n",
       "    <tr>\n",
       "      <th>4</th>\n",
       "      <td>{'ref': '1|116795|0|1|6012025'}</td>\n",
       "      <td>P</td>\n",
       "      <td>{'icon': {'res': 'prod_gen'}, 'operatorInfo': ...</td>\n",
       "      <td>[{'icon': {'res': 'prod_gen'}, 'operatorInfo':...</td>\n",
       "      <td>{'Note': [{'value': 'Lag 2015:953 tillämpas', ...</td>\n",
       "      <td>Länstrafik - Buss 18</td>\n",
       "      <td>ST</td>\n",
       "      <td>Göteborg Korsvägen</td>\n",
       "      <td>A=1@O=Göteborg Korsvägen@X=11986918@Y=57696742...</td>\n",
       "      <td>740015578</td>\n",
       "      <td>11.986918</td>\n",
       "      <td>57.696742</td>\n",
       "      <td>20:27:00</td>\n",
       "      <td>2025-01-06</td>\n",
       "      <td>True</td>\n",
       "      <td>Kallebäck (Göteborg kn)</td>\n",
       "      <td>1</td>\n",
       "    </tr>\n",
       "  </tbody>\n",
       "</table>\n",
       "</div>"
      ],
      "text/plain": [
       "                  JourneyDetailRef JourneyStatus  \\\n",
       "0   {'ref': '1|64328|4|1|6012025'}             P   \n",
       "1  {'ref': '1|116907|4|1|6012025'}             P   \n",
       "2  {'ref': '1|168713|0|1|6012025'}             P   \n",
       "3   {'ref': '1|64328|4|1|6012025'}             P   \n",
       "4  {'ref': '1|116795|0|1|6012025'}             P   \n",
       "\n",
       "                                       ProductAtStop  \\\n",
       "0  {'icon': {'res': 'prod_gen'}, 'operatorInfo': ...   \n",
       "1  {'icon': {'res': 'prod_gen'}, 'operatorInfo': ...   \n",
       "2  {'icon': {'res': 'prod_gen'}, 'operatorInfo': ...   \n",
       "3  {'icon': {'res': 'prod_gen'}, 'operatorInfo': ...   \n",
       "4  {'icon': {'res': 'prod_gen'}, 'operatorInfo': ...   \n",
       "\n",
       "                                             Product  \\\n",
       "0  [{'icon': {'res': 'prod_gen'}, 'operatorInfo':...   \n",
       "1  [{'icon': {'res': 'prod_gen'}, 'operatorInfo':...   \n",
       "2  [{'icon': {'res': 'prod_gen'}, 'operatorInfo':...   \n",
       "3  [{'icon': {'res': 'prod_gen'}, 'operatorInfo':...   \n",
       "4  [{'icon': {'res': 'prod_gen'}, 'operatorInfo':...   \n",
       "\n",
       "                                               Notes                    name  \\\n",
       "0  {'Note': [{'value': 'Lag 2015:953 tillämpas', ...  Länstrafik - Spårväg 8   \n",
       "1  {'Note': [{'value': 'Lag 2015:953 tillämpas', ...    Länstrafik - Buss 18   \n",
       "2  {'Note': [{'value': 'Lag 2015:953 tillämpas', ...  Länstrafik - Spårväg 5   \n",
       "3  {'Note': [{'value': 'Lag 2015:953 tillämpas', ...  Länstrafik - Spårväg 8   \n",
       "4  {'Note': [{'value': 'Lag 2015:953 tillämpas', ...    Länstrafik - Buss 18   \n",
       "\n",
       "  type                   stop  \\\n",
       "0   ST     Göteborg Korsvägen   \n",
       "1   ST     Göteborg Korsvägen   \n",
       "2   ST     Göteborg Korsvägen   \n",
       "3   ST  Göteborg Scandinavium   \n",
       "4   ST     Göteborg Korsvägen   \n",
       "\n",
       "                                              stopid  stopExtId        lon  \\\n",
       "0  A=1@O=Göteborg Korsvägen@X=11986918@Y=57696742...  740015578  11.986918   \n",
       "1  A=1@O=Göteborg Korsvägen@X=11986918@Y=57696742...  740015578  11.986918   \n",
       "2  A=1@O=Göteborg Korsvägen@X=11986918@Y=57696742...  740015578  11.986918   \n",
       "3  A=1@O=Göteborg Scandinavium@X=11985875@Y=57700...  740025681  11.985875   \n",
       "4  A=1@O=Göteborg Korsvägen@X=11986918@Y=57696742...  740015578  11.986918   \n",
       "\n",
       "         lat      time        date  reachable                      direction  \\\n",
       "0  57.696742  20:25:00  2025-01-06       True  Angered centrum (Göteborg kn)   \n",
       "1  57.696742  20:25:00  2025-01-06       True  Körkarlens gata (Göteborg kn)   \n",
       "2  57.696742  20:25:00  2025-01-06       True       Göteborg Östra sjukhuset   \n",
       "3  57.700445  20:26:00  2025-01-06       True  Angered centrum (Göteborg kn)   \n",
       "4  57.696742  20:27:00  2025-01-06       True        Kallebäck (Göteborg kn)   \n",
       "\n",
       "  directionFlag  \n",
       "0             1  \n",
       "1             2  \n",
       "2             1  \n",
       "3             1  \n",
       "4             1  "
      ]
     },
     "execution_count": 24,
     "metadata": {},
     "output_type": "execute_result"
    }
   ],
   "source": [
    "import pandas as pd \n",
    "\n",
    "df_timetable = pd.DataFrame(results[\"Departure\"])\n",
    "df_timetable.head()\n"
   ]
  },
  {
   "cell_type": "code",
   "execution_count": 25,
   "metadata": {},
   "outputs": [
    {
     "data": {
      "text/html": [
       "<div>\n",
       "<style scoped>\n",
       "    .dataframe tbody tr th:only-of-type {\n",
       "        vertical-align: middle;\n",
       "    }\n",
       "\n",
       "    .dataframe tbody tr th {\n",
       "        vertical-align: top;\n",
       "    }\n",
       "\n",
       "    .dataframe thead th {\n",
       "        text-align: right;\n",
       "    }\n",
       "</style>\n",
       "<table border=\"1\" class=\"dataframe\">\n",
       "  <thead>\n",
       "    <tr style=\"text-align: right;\">\n",
       "      <th></th>\n",
       "      <th>name</th>\n",
       "      <th>stop</th>\n",
       "      <th>lon</th>\n",
       "      <th>lat</th>\n",
       "      <th>direction</th>\n",
       "      <th>date</th>\n",
       "      <th>time</th>\n",
       "    </tr>\n",
       "  </thead>\n",
       "  <tbody>\n",
       "    <tr>\n",
       "      <th>0</th>\n",
       "      <td>Länstrafik - Spårväg 8</td>\n",
       "      <td>Göteborg Korsvägen</td>\n",
       "      <td>11.986918</td>\n",
       "      <td>57.696742</td>\n",
       "      <td>Angered centrum (Göteborg kn)</td>\n",
       "      <td>2025-01-06</td>\n",
       "      <td>20:25:00</td>\n",
       "    </tr>\n",
       "    <tr>\n",
       "      <th>1</th>\n",
       "      <td>Länstrafik - Buss 18</td>\n",
       "      <td>Göteborg Korsvägen</td>\n",
       "      <td>11.986918</td>\n",
       "      <td>57.696742</td>\n",
       "      <td>Körkarlens gata (Göteborg kn)</td>\n",
       "      <td>2025-01-06</td>\n",
       "      <td>20:25:00</td>\n",
       "    </tr>\n",
       "    <tr>\n",
       "      <th>2</th>\n",
       "      <td>Länstrafik - Spårväg 5</td>\n",
       "      <td>Göteborg Korsvägen</td>\n",
       "      <td>11.986918</td>\n",
       "      <td>57.696742</td>\n",
       "      <td>Göteborg Östra sjukhuset</td>\n",
       "      <td>2025-01-06</td>\n",
       "      <td>20:25:00</td>\n",
       "    </tr>\n",
       "    <tr>\n",
       "      <th>3</th>\n",
       "      <td>Länstrafik - Spårväg 8</td>\n",
       "      <td>Göteborg Scandinavium</td>\n",
       "      <td>11.985875</td>\n",
       "      <td>57.700445</td>\n",
       "      <td>Angered centrum (Göteborg kn)</td>\n",
       "      <td>2025-01-06</td>\n",
       "      <td>20:26:00</td>\n",
       "    </tr>\n",
       "    <tr>\n",
       "      <th>4</th>\n",
       "      <td>Länstrafik - Buss 18</td>\n",
       "      <td>Göteborg Korsvägen</td>\n",
       "      <td>11.986918</td>\n",
       "      <td>57.696742</td>\n",
       "      <td>Kallebäck (Göteborg kn)</td>\n",
       "      <td>2025-01-06</td>\n",
       "      <td>20:27:00</td>\n",
       "    </tr>\n",
       "    <tr>\n",
       "      <th>...</th>\n",
       "      <td>...</td>\n",
       "      <td>...</td>\n",
       "      <td>...</td>\n",
       "      <td>...</td>\n",
       "      <td>...</td>\n",
       "      <td>...</td>\n",
       "      <td>...</td>\n",
       "    </tr>\n",
       "    <tr>\n",
       "      <th>104</th>\n",
       "      <td>Länstrafik - Buss 61</td>\n",
       "      <td>Göteborg Korsvägen</td>\n",
       "      <td>11.986918</td>\n",
       "      <td>57.696742</td>\n",
       "      <td>Masthugget (Göteborg kn)</td>\n",
       "      <td>2025-01-06</td>\n",
       "      <td>21:24:00</td>\n",
       "    </tr>\n",
       "    <tr>\n",
       "      <th>105</th>\n",
       "      <td>Länstrafik - Spårväg 8</td>\n",
       "      <td>Göteborg Korsvägen</td>\n",
       "      <td>11.986918</td>\n",
       "      <td>57.696742</td>\n",
       "      <td>Angered centrum (Göteborg kn)</td>\n",
       "      <td>2025-01-06</td>\n",
       "      <td>21:24:00</td>\n",
       "    </tr>\n",
       "    <tr>\n",
       "      <th>106</th>\n",
       "      <td>Länstrafik - Spårväg 2</td>\n",
       "      <td>Göteborg Scandinavium</td>\n",
       "      <td>11.985875</td>\n",
       "      <td>57.700445</td>\n",
       "      <td>Göteborg Linnéplatsen</td>\n",
       "      <td>2025-01-06</td>\n",
       "      <td>21:24:00</td>\n",
       "    </tr>\n",
       "    <tr>\n",
       "      <th>107</th>\n",
       "      <td>Länstrafik - Spårväg 8</td>\n",
       "      <td>Göteborg Scandinavium</td>\n",
       "      <td>11.985875</td>\n",
       "      <td>57.700445</td>\n",
       "      <td>Angered centrum (Göteborg kn)</td>\n",
       "      <td>2025-01-06</td>\n",
       "      <td>21:25:00</td>\n",
       "    </tr>\n",
       "    <tr>\n",
       "      <th>108</th>\n",
       "      <td>Länstrafik - Spårväg 5</td>\n",
       "      <td>Göteborg Korsvägen</td>\n",
       "      <td>11.986918</td>\n",
       "      <td>57.696742</td>\n",
       "      <td>Göteborg Östra sjukhuset</td>\n",
       "      <td>2025-01-06</td>\n",
       "      <td>21:25:00</td>\n",
       "    </tr>\n",
       "  </tbody>\n",
       "</table>\n",
       "<p>109 rows × 7 columns</p>\n",
       "</div>"
      ],
      "text/plain": [
       "                       name                   stop        lon        lat  \\\n",
       "0    Länstrafik - Spårväg 8     Göteborg Korsvägen  11.986918  57.696742   \n",
       "1      Länstrafik - Buss 18     Göteborg Korsvägen  11.986918  57.696742   \n",
       "2    Länstrafik - Spårväg 5     Göteborg Korsvägen  11.986918  57.696742   \n",
       "3    Länstrafik - Spårväg 8  Göteborg Scandinavium  11.985875  57.700445   \n",
       "4      Länstrafik - Buss 18     Göteborg Korsvägen  11.986918  57.696742   \n",
       "..                      ...                    ...        ...        ...   \n",
       "104    Länstrafik - Buss 61     Göteborg Korsvägen  11.986918  57.696742   \n",
       "105  Länstrafik - Spårväg 8     Göteborg Korsvägen  11.986918  57.696742   \n",
       "106  Länstrafik - Spårväg 2  Göteborg Scandinavium  11.985875  57.700445   \n",
       "107  Länstrafik - Spårväg 8  Göteborg Scandinavium  11.985875  57.700445   \n",
       "108  Länstrafik - Spårväg 5     Göteborg Korsvägen  11.986918  57.696742   \n",
       "\n",
       "                         direction        date      time  \n",
       "0    Angered centrum (Göteborg kn)  2025-01-06  20:25:00  \n",
       "1    Körkarlens gata (Göteborg kn)  2025-01-06  20:25:00  \n",
       "2         Göteborg Östra sjukhuset  2025-01-06  20:25:00  \n",
       "3    Angered centrum (Göteborg kn)  2025-01-06  20:26:00  \n",
       "4          Kallebäck (Göteborg kn)  2025-01-06  20:27:00  \n",
       "..                             ...         ...       ...  \n",
       "104       Masthugget (Göteborg kn)  2025-01-06  21:24:00  \n",
       "105  Angered centrum (Göteborg kn)  2025-01-06  21:24:00  \n",
       "106          Göteborg Linnéplatsen  2025-01-06  21:24:00  \n",
       "107  Angered centrum (Göteborg kn)  2025-01-06  21:25:00  \n",
       "108       Göteborg Östra sjukhuset  2025-01-06  21:25:00  \n",
       "\n",
       "[109 rows x 7 columns]"
      ]
     },
     "execution_count": 25,
     "metadata": {},
     "output_type": "execute_result"
    }
   ],
   "source": [
    "df_timetable_cleaned = df_timetable[[\"name\", \"stop\", \"lon\", \"lat\", \"direction\", \"date\", \"time\"]]\n",
    "df_timetable_cleaned"
   ]
  },
  {
   "cell_type": "code",
   "execution_count": 26,
   "metadata": {},
   "outputs": [
    {
     "data": {
      "text/plain": [
       "name\n",
       "Länstrafik - Spårväg 8    18\n",
       "Länstrafik - Spårväg 6    16\n",
       "Länstrafik - Spårväg 2    16\n",
       "Länstrafik - Buss 18      12\n",
       "Länstrafik - Spårväg 5     9\n",
       "Länstrafik - Spårväg 4     8\n",
       "Länstrafik - Buss X4       8\n",
       "Länstrafik - Buss 63       6\n",
       "Länstrafik - Buss 61       6\n",
       "Länstrafik - Buss RÖD      4\n",
       "Länstrafik - Buss 300      2\n",
       "Länstrafik - Buss 100      2\n",
       "Flygtransfer - Buss .      1\n",
       "Länstrafik - Buss 101      1\n",
       "Name: count, dtype: int64"
      ]
     },
     "execution_count": 26,
     "metadata": {},
     "output_type": "execute_result"
    }
   ],
   "source": [
    "df_timetable_cleaned[\"name\"].value_counts()"
   ]
  },
  {
   "cell_type": "markdown",
   "metadata": {},
   "source": [
    "## more EDAs left for the reader ..."
   ]
  },
  {
   "cell_type": "markdown",
   "metadata": {},
   "source": [
    "<div style=\"background-color: #FFF; color: #212121; border-radius: 1px; width:22ch; box-shadow: rgba(0, 0, 0, 0.16) 0px 1px 4px; display: flex; justify-content: center; align-items: center;\">\n",
    "<div style=\"padding: 1.5em 0; width: 70%;\">\n",
    "    <h2 style=\"font-size: 1.2rem;\">Kokchun Giang</h2>\n",
    "    <a href=\"https://www.linkedin.com/in/kokchungiang/\" target=\"_blank\" style=\"display: flex; align-items: center; gap: .4em; color:#0A66C2;\">\n",
    "        <img src=\"https://content.linkedin.com/content/dam/me/business/en-us/amp/brand-site/v2/bg/LI-Bug.svg.original.svg\" width=\"20\"> \n",
    "        LinkedIn profile\n",
    "    </a>\n",
    "    <a href=\"https://github.com/kokchun/Portfolio-Kokchun-Giang\" target=\"_blank\" style=\"display: flex; align-items: center; gap: .4em; margin: 1em 0; color:#0A66C2;\">\n",
    "        <img src=\"https://github.githubassets.com/images/modules/logos_page/GitHub-Mark.png\" width=\"20\"> \n",
    "        Github portfolio\n",
    "    </a>\n",
    "    <span>AIgineer AB</span>\n",
    "<div>\n",
    "</div>\n"
   ]
  }
 ],
 "metadata": {
  "kernelspec": {
   "display_name": ".venv",
   "language": "python",
   "name": "python3"
  },
  "language_info": {
   "codemirror_mode": {
    "name": "ipython",
    "version": 3
   },
   "file_extension": ".py",
   "mimetype": "text/x-python",
   "name": "python",
   "nbconvert_exporter": "python",
   "pygments_lexer": "ipython3",
   "version": "3.11.8"
  }
 },
 "nbformat": 4,
 "nbformat_minor": 2
}
