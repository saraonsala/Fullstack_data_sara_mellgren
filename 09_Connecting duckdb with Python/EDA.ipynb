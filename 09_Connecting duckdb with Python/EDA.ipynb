{
 "cells": [
  {
   "cell_type": "code",
   "execution_count": 2,
   "metadata": {},
   "outputs": [
    {
     "ename": "CatalogException",
     "evalue": "Catalog Error: Table with name invoice_202407 does not exist!\nDid you mean \"goteborg_stad.pg_catalog.pg_views\"?\nLINE 1: SELECT * FROM supplier_invoice.invoice_202407\n                      ^",
     "output_type": "error",
     "traceback": [
      "\u001b[1;31m---------------------------------------------------------------------------\u001b[0m",
      "\u001b[1;31mCatalogException\u001b[0m                          Traceback (most recent call last)",
      "Cell \u001b[1;32mIn[2], line 5\u001b[0m\n\u001b[0;32m      2\u001b[0m \u001b[38;5;28;01mfrom\u001b[39;00m \u001b[38;5;21;01mconstants\u001b[39;00m \u001b[38;5;28;01mimport\u001b[39;00m DATABASE_PATH\n\u001b[0;32m      4\u001b[0m \u001b[38;5;28;01mwith\u001b[39;00m DatabaseDataFrame(DATABASE_PATH) \u001b[38;5;28;01mas\u001b[39;00m db:\n\u001b[1;32m----> 5\u001b[0m     df \u001b[38;5;241m=\u001b[39m \u001b[43mdb\u001b[49m\u001b[38;5;241;43m.\u001b[39;49m\u001b[43mquery\u001b[49m\u001b[43m(\u001b[49m\u001b[38;5;124;43m\"\u001b[39;49m\u001b[38;5;124;43mSELECT * FROM supplier_invoice.invoice_202407\u001b[39;49m\u001b[38;5;124;43m\"\u001b[39;49m\u001b[43m)\u001b[49m\n\u001b[0;32m      7\u001b[0m df\u001b[38;5;241m.\u001b[39mhead()\n",
      "File \u001b[1;32mc:\\Users\\saram\\Klassprojekt\\GitHub\\Fullstack_data_sara_mellgren\\09_Connecting duckdb with Python\\database.py:23\u001b[0m, in \u001b[0;36mDatabaseDataFrame.query\u001b[1;34m(self, query)\u001b[0m\n\u001b[0;32m     22\u001b[0m \u001b[38;5;28;01mdef\u001b[39;00m \u001b[38;5;21mquery\u001b[39m(\u001b[38;5;28mself\u001b[39m, query):\n\u001b[1;32m---> 23\u001b[0m     \u001b[38;5;28;01mreturn\u001b[39;00m \u001b[38;5;28;43mself\u001b[39;49m\u001b[38;5;241;43m.\u001b[39;49m\u001b[43mconnection\u001b[49m\u001b[38;5;241;43m.\u001b[39;49m\u001b[43mexecute\u001b[49m\u001b[43m(\u001b[49m\u001b[43mquery\u001b[49m\u001b[43m)\u001b[49m\u001b[38;5;241m.\u001b[39mdf()\n",
      "\u001b[1;31mCatalogException\u001b[0m: Catalog Error: Table with name invoice_202407 does not exist!\nDid you mean \"goteborg_stad.pg_catalog.pg_views\"?\nLINE 1: SELECT * FROM supplier_invoice.invoice_202407\n                      ^"
     ]
    }
   ],
   "source": [
    "from database import DatabaseDataFrame\n",
    "from constants import DATABASE_PATH\n",
    "\n",
    "with DatabaseDataFrame(DATABASE_PATH) as db:\n",
    "    df = db.query(\"SELECT * FROM supplier_invoice.invoice_202407\")\n",
    "\n",
    "df.head()"
   ]
  }
 ],
 "metadata": {
  "kernelspec": {
   "display_name": ".venv",
   "language": "python",
   "name": "python3"
  },
  "language_info": {
   "codemirror_mode": {
    "name": "ipython",
    "version": 3
   },
   "file_extension": ".py",
   "mimetype": "text/x-python",
   "name": "python",
   "nbconvert_exporter": "python",
   "pygments_lexer": "ipython3",
   "version": "3.11.9"
  }
 },
 "nbformat": 4,
 "nbformat_minor": 2
}
