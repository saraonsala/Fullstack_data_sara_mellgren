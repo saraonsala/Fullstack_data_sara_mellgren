{
 "cells": [
  {
   "cell_type": "markdown",
   "metadata": {},
   "source": [
    "#In a company `Hire IT`, there are these employees.\n",
    "\n",
    "| employeeID | name    | department | salary |\n",
    "| ---------: | :------ | :--------- | ------ |\n",
    "|          0 | Alice   | HR         | 31000  |\n",
    "|          1 | Bob     | IT         | 41000  |\n",
    "|          2 | Charlie | HR         | 28000  |\n"
   ]
  },
  {
   "cell_type": "code",
   "execution_count": 93,
   "metadata": {},
   "outputs": [],
   "source": [
    "# a) Create a list of dictionaries to represent this data, where each dictionary represents each row.\n",
    "name = \"Alice\"\n",
    "department = \"HR\"\n",
    "salary = 31000\n",
    "\n",
    "employees = [\n",
    "    {\"employeeID\":0,  \"name\": \"Alice\", \"department\":\"HR\",\"salary\": 31000},\n",
    "    {\"employeeID\":1, \"name\": \"Bob\", \"department\": \"IT\", \"salary\": 41000},\n",
    "    {\"employeeID\":2, \"name\": \"Charlie\", \"department\": \"HR\", \"salary\": 28000}\n",
    "]\n",
    "\n",
    "               "
   ]
  },
  {
   "cell_type": "code",
   "execution_count": 94,
   "metadata": {},
   "outputs": [
    {
     "name": "stdout",
     "output_type": "stream",
     "text": [
      "{'employeeID': 1, 'name': 'Bob', 'department': 'IT', 'salary': 41000}\n"
     ]
    }
   ],
   "source": [
    " #b) Extract the second record in this dataset.\n",
    "print (employees[1])"
   ]
  },
  {
   "cell_type": "markdown",
   "metadata": {},
   "source": [
    "  c) Extract all rows from this dataset and print it in this format\n",
    "Alice works in department HR and earns 31000.\n",
    "Bob works in department IT and earns 41000.\n",
    "Charlie works in department HR and earns 28000.\n"
   ]
  },
  {
   "cell_type": "code",
   "execution_count": 95,
   "metadata": {},
   "outputs": [
    {
     "name": "stdout",
     "output_type": "stream",
     "text": [
      "Alice works in department HR and earns 31000\n",
      "Bob works in department IT and earns 41000\n",
      "Charlie works in department HR and earns 28000\n"
     ]
    }
   ],
   "source": [
    "for employee in employees:\n",
    "    name = employee[\"name\"]\n",
    "    department = employee[\"department\"]\n",
    "    salary = employee[\"salary\"]\n",
    "    print(f\"{name} works in department {department} and earns {salary}\")"
   ]
  },
  {
   "cell_type": "markdown",
   "metadata": {},
   "source": [
    "  d) Find out the average salary in Hire IT.\n",
    "\n",
    "  e) Find out the average salary among the HR department in Hire IT.\n",
    "\n",
    "  f) Extract all records where the department is HR.\n",
    "\n",
    "  g) Find all unique departments in this list."
   ]
  },
  {
   "cell_type": "code",
   "execution_count": 96,
   "metadata": {},
   "outputs": [
    {
     "name": "stdout",
     "output_type": "stream",
     "text": [
      "(The avarage salary in Hire IT is 33333.333333333336)\n"
     ]
    }
   ],
   "source": [
    "#d\n",
    "totola_salary = sum(employee[\"salary\"]for employee in employees)\n",
    "average_salary = totola_salary / len(employees)  \n",
    "\n",
    "print(f\"(The avarage salary in Hire IT is {average_salary})\")             "
   ]
  },
  {
   "cell_type": "code",
   "execution_count": 97,
   "metadata": {},
   "outputs": [
    {
     "name": "stdout",
     "output_type": "stream",
     "text": [
      "(The average salary in HR is 29500.0)\n"
     ]
    }
   ],
   "source": [
    "#e\n",
    "hr_salaries = [employee['salary'] for employee in employees if employee['department'] == 'HR']\n",
    "average_hr_salary = sum(hr_salaries) / len(hr_salaries)\n",
    "\n",
    "print(f\"(The average salary in HR is {average_hr_salary})\")"
   ]
  },
  {
   "cell_type": "code",
   "execution_count": 98,
   "metadata": {},
   "outputs": [
    {
     "name": "stdout",
     "output_type": "stream",
     "text": [
      "[{'employeeID': 0, 'name': 'Alice', 'department': 'HR', 'salary': 31000}, {'employeeID': 2, 'name': 'Charlie', 'department': 'HR', 'salary': 28000}]\n"
     ]
    }
   ],
   "source": [
    "#f  \n",
    "print([employee for employee in employees if employee['department']== 'HR'])"
   ]
  },
  {
   "cell_type": "code",
   "execution_count": 99,
   "metadata": {},
   "outputs": [
    {
     "data": {
      "text/plain": [
       "{'HR', 'IT'}"
      ]
     },
     "execution_count": 99,
     "metadata": {},
     "output_type": "execute_result"
    }
   ],
   "source": [
    "#g \n",
    "unique_departments = set([employee['department'] for employee in employees])\n",
    "unique_departments"
   ]
  },
  {
   "cell_type": "markdown",
   "metadata": {},
   "source": [
    "For the following exercises the data has now been updated with the age column\n",
    "employeeID \tname \tdepartment \tsalary \tage\n",
    "0 \tAlice \tHR \t31000 \t26\n",
    "1 \tBob \tIT \t41000 \t37\n",
    "2 \tCharlie \tHR \t28000 \t\n",
    "\n",
    "  h) Add this age column into our list of dictionaries. None should be used for empty fields.\n",
    "\n",
    "  i) A new employee named David starts at the IT department, with salary 35000 and has the age 30. Create a function to add this record to the dataset."
   ]
  },
  {
   "cell_type": "code",
   "execution_count": 100,
   "metadata": {},
   "outputs": [
    {
     "name": "stdout",
     "output_type": "stream",
     "text": [
      "[{'employeeID': 0, 'name': 'Alice', 'department': 'HR', 'salary': 31000, 'age': 26}, {'employeeID': 1, 'name': 'Bob', 'department': 'IT', 'salary': 41000, 'age': 37}, {'employeeID': 2, 'name': 'Charlie', 'department': 'HR', 'salary': 28000, 'age': None}]\n"
     ]
    }
   ],
   "source": [
    "#h\n",
    "ages = [26, 37, None]\n",
    "\n",
    "for i , employee in enumerate(employees):\n",
    "    employee['age']= ages[i]\n",
    "\n",
    "print(employees)\n",
    "\n"
   ]
  },
  {
   "cell_type": "code",
   "execution_count": 101,
   "metadata": {},
   "outputs": [],
   "source": [
    "#i\n",
    "append_employee = {'employeeID': 3, 'name': 'David', 'department': 'IT', 'salary': 35000, 'age': 30 }\n"
   ]
  },
  {
   "cell_type": "markdown",
   "metadata": {},
   "source": [
    "1. Gotta catch em all\n",
    "\n",
    "  a) Define a Pokemon class with attributes for name, type, and level. Instantiate a pokemon named Pikachu and give it an electric type with level 10.\n",
    "  b) Implement __str__() method to display the Pokemon's details. Also implement a __repr__() method.\n",
    "  c) Create a subclass WaterPokemon that inherits from Pokemon and add a unique method splash. This method prints out the pokemons name and that it splashes some water.\n",
    "\n",
    "  d) Now instantiate two Squirtles and a Polywag. Squirtles and Polywags are of type WaterPokemon.\n",
    "\n",
    "  e) Loop through a tuple of all your instantiated pokemons and print them out.\n",
    "\n",
    "Printing out details are just that fun. It's time for battle."
   ]
  },
  {
   "cell_type": "code",
   "execution_count": 103,
   "metadata": {},
   "outputs": [
    {
     "name": "stdout",
     "output_type": "stream",
     "text": [
      "Pokemon(name=Squirtle, type=Water, level=10)\n",
      "Pokemon(name='Squirtle', type='Water', level=10)\n",
      "Squirtle splashes some water!\n",
      "Pokemon(name=Pikachu, type=Electric, level=5)\n",
      "Pokemon(name=Charmander, type=Fire, level=8)\n",
      "Pokemon(name=Squirtle, type=Water, level=10)\n"
     ]
    }
   ],
   "source": [
    "class Pokemon:\n",
    "    def __init__(self, name, type, level):\n",
    "        self.name = name\n",
    "        self.type = type\n",
    "        self.level = level\n",
    "\n",
    "    def __str__(self):\n",
    "        return f\"Pokemon(name={self.name}, type={self.type}, level={self.level})\"\n",
    "\n",
    "    def __repr__(self):\n",
    "        return f\"Pokemon(name={self.name!r}, type={self.type!r}, level={self.level!r})\"\n",
    "\n",
    "class WaterPokemon(Pokemon):\n",
    "    def __init__(self, name, level):\n",
    "        super().__init__(name, \"Water\", level)\n",
    "\n",
    "    def splash(self):\n",
    "        print(f\"{self.name} splashes some water!\")\n",
    "\n",
    "# Example usage\n",
    "squirtle = WaterPokemon(\"Squirtle\", 10)\n",
    "print(str(squirtle))  # User-friendly string representation\n",
    "print(repr(squirtle))  # String that can recreate the object\n",
    "squirtle.splash()  # Unique method for WaterPokemon\n",
    "\n",
    "# Assuming the classes Pokemon and WaterPokemon are already defined as above\n",
    "\n",
    "# Instantiate some Pokemon objects\n",
    "pikachu = Pokemon(\"Pikachu\", \"Electric\", 5)\n",
    "charmander = Pokemon(\"Charmander\", \"Fire\", 8)\n",
    "squirtle = WaterPokemon(\"Squirtle\", 10)\n",
    "\n",
    "# Create a tuple of all instantiated Pokemon\n",
    "all_pokemons = (pikachu, charmander, squirtle)\n",
    "\n",
    "# Loop through the tuple and print each Pokemon\n",
    "for pokemon in all_pokemons:\n",
    "    print(pokemon)"
   ]
  },
  {
   "cell_type": "markdown",
   "metadata": {},
   "source": [
    "  f) To implement battling we need to do the following:\n",
    "\n",
    "    add an attribute hp (healthpoints) to Pokemon class.\n",
    "    implement a (pseudo)private method take_damage that subtracts the damage on the healthpoints\n",
    "    implement an attack method in the Pokemon class that takes in another Pokemon as an argument. It inflicts damage on other pokemon based on its own level times 2. Print out damage taken and life points left on the pokemon. When damage exceeds the life points, the pokemon is fainted.\n"
   ]
  },
  {
   "cell_type": "code",
   "execution_count": null,
   "metadata": {},
   "outputs": [],
   "source": []
  },
  {
   "cell_type": "markdown",
   "metadata": {},
   "source": []
  }
 ],
 "metadata": {
  "kernelspec": {
   "display_name": ".venv",
   "language": "python",
   "name": "python3"
  },
  "language_info": {
   "codemirror_mode": {
    "name": "ipython",
    "version": 3
   },
   "file_extension": ".py",
   "mimetype": "text/x-python",
   "name": "python",
   "nbconvert_exporter": "python",
   "pygments_lexer": "ipython3",
   "version": "3.11.9"
  }
 },
 "nbformat": 4,
 "nbformat_minor": 2
}
