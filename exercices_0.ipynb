{
 "cells": [
  {
   "cell_type": "markdown",
   "metadata": {},
   "source": [
    "#In a company `Hire IT`, there are these employees.\n",
    "\n",
    "| employeeID | name    | department | salary |\n",
    "| ---------: | :------ | :--------- | ------ |\n",
    "|          0 | Alice   | HR         | 31000  |\n",
    "|          1 | Bob     | IT         | 41000  |\n",
    "|          2 | Charlie | HR         | 28000  |\n"
   ]
  },
  {
   "cell_type": "code",
   "execution_count": 102,
   "metadata": {},
   "outputs": [],
   "source": [
    "# a) Create a list of dictionaries to represent this data, where each dictionary represents each row.\n",
    "name = \"Alice\"\n",
    "department = \"HR\"\n",
    "salary = 31000\n",
    "\n",
    "employees = [\n",
    "    {\"employeeID\":0,  \"name\": \"Alice\", \"department\":\"HR\",\"salary\": 31000},\n",
    "    {\"employeeID\":1, \"name\": \"Bob\", \"department\": \"IT\", \"salary\": 41000},\n",
    "    {\"employeeID\":2, \"name\": \"Charlie\", \"department\": \"HR\", \"salary\": 28000}\n",
    "]\n",
    "\n",
    "               "
   ]
  },
  {
   "cell_type": "code",
   "execution_count": 103,
   "metadata": {},
   "outputs": [
    {
     "name": "stdout",
     "output_type": "stream",
     "text": [
      "{'employeeID': 1, 'name': 'Bob', 'department': 'IT', 'salary': 41000}\n"
     ]
    }
   ],
   "source": [
    " #b) Extract the second record in this dataset.\n",
    "print (employees[1])"
   ]
  },
  {
   "cell_type": "markdown",
   "metadata": {},
   "source": [
    "  c) Extract all rows from this dataset and print it in this format\n",
    "Alice works in department HR and earns 31000.\n",
    "Bob works in department IT and earns 41000.\n",
    "Charlie works in department HR and earns 28000.\n"
   ]
  },
  {
   "cell_type": "code",
   "execution_count": 105,
   "metadata": {},
   "outputs": [
    {
     "name": "stdout",
     "output_type": "stream",
     "text": [
      "Alice works in department HR and earns 31000\n",
      "Bob works in department IT and earns 41000\n",
      "Charlie works in department HR and earns 28000\n"
     ]
    }
   ],
   "source": [
    "for employee in employees:\n",
    "    name = employee[\"name\"]\n",
    "    department = employee[\"department\"]\n",
    "    salary = employee[\"salary\"]\n",
    "    print(f\"{name} works in department {department} and earns {salary}\")"
   ]
  },
  {
   "cell_type": "markdown",
   "metadata": {},
   "source": [
    "  d) Find out the average salary in Hire IT.\n",
    "\n",
    "  e) Find out the average salary among the HR department in Hire IT.\n",
    "\n",
    "  f) Extract all records where the department is HR.\n",
    "\n",
    "  g) Find all unique departments in this list."
   ]
  },
  {
   "cell_type": "code",
   "execution_count": 111,
   "metadata": {},
   "outputs": [
    {
     "name": "stdout",
     "output_type": "stream",
     "text": [
      "(The avarage salary in Hire IT is 33333.333333333336)\n"
     ]
    }
   ],
   "source": [
    "#d\n",
    "totola_salary = sum(employee[\"salary\"]for employee in employees)\n",
    "average_salary = totola_salary / len(employees)  \n",
    "\n",
    "print(f\"(The avarage salary in Hire IT is {average_salary})\")             "
   ]
  },
  {
   "cell_type": "code",
   "execution_count": 116,
   "metadata": {},
   "outputs": [
    {
     "name": "stdout",
     "output_type": "stream",
     "text": [
      "(The average salary in HR is 29500.0)\n"
     ]
    }
   ],
   "source": [
    "hr_salaries = [employee['salary'] for employee in employees if employee['department'] == 'HR']\n",
    "average_hr_salary = sum(hr_salaries) / len(hr_salaries)\n",
    "\n",
    "print(f\"(The average salary in HR is {average_hr_salary})\")"
   ]
  },
  {
   "cell_type": "code",
   "execution_count": 119,
   "metadata": {},
   "outputs": [
    {
     "name": "stdout",
     "output_type": "stream",
     "text": [
      "[{'employeeID': 0, 'name': 'Alice', 'department': 'HR', 'salary': 31000}, {'employeeID': 2, 'name': 'Charlie', 'department': 'HR', 'salary': 28000}]\n"
     ]
    }
   ],
   "source": [
    "#f  \n",
    "print([employee for employee in employees if employee['department']== 'HR'])"
   ]
  },
  {
   "cell_type": "code",
   "execution_count": 121,
   "metadata": {},
   "outputs": [
    {
     "data": {
      "text/plain": [
       "{'HR', 'IT'}"
      ]
     },
     "execution_count": 121,
     "metadata": {},
     "output_type": "execute_result"
    }
   ],
   "source": [
    "#g \n",
    "unique_departments = set([employee['department'] for employee in employees])\n",
    "unique_departments"
   ]
  }
 ],
 "metadata": {
  "kernelspec": {
   "display_name": ".venv",
   "language": "python",
   "name": "python3"
  },
  "language_info": {
   "codemirror_mode": {
    "name": "ipython",
    "version": 3
   },
   "file_extension": ".py",
   "mimetype": "text/x-python",
   "name": "python",
   "nbconvert_exporter": "python",
   "pygments_lexer": "ipython3",
   "version": "3.11.9"
  }
 },
 "nbformat": 4,
 "nbformat_minor": 2
}
