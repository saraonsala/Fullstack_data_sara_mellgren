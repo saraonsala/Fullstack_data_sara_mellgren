{
 "cells": [
  {
   "cell_type": "markdown",
   "metadata": {},
   "source": [
    "#In a company `Hire IT`, there are these employees.\n",
    "\n",
    "| employeeID | name    | department | salary |\n",
    "| ---------: | :------ | :--------- | ------ |\n",
    "|          0 | Alice   | HR         | 31000  |\n",
    "|          1 | Bob     | IT         | 41000  |\n",
    "|          2 | Charlie | HR         | 28000  |\n"
   ]
  },
  {
   "cell_type": "code",
   "execution_count": 102,
   "metadata": {},
   "outputs": [],
   "source": [
    "# a) Create a list of dictionaries to represent this data, where each dictionary represents each row.\n",
    "name = \"Alice\"\n",
    "department = \"HR\"\n",
    "salary = 31000\n",
    "\n",
    "employees = [\n",
    "    {\"employeeID\":0,  \"name\": \"Alice\", \"department\":\"HR\",\"salary\": 31000},\n",
    "    {\"employeeID\":1, \"name\": \"Bob\", \"department\": \"IT\", \"salary\": 41000},\n",
    "    {\"employeeID\":2, \"name\": \"Charlie\", \"department\": \"HR\", \"salary\": 28000}\n",
    "]\n",
    "\n",
    "               "
   ]
  },
  {
   "cell_type": "code",
   "execution_count": 103,
   "metadata": {},
   "outputs": [
    {
     "name": "stdout",
     "output_type": "stream",
     "text": [
      "{'employeeID': 1, 'name': 'Bob', 'department': 'IT', 'salary': 41000}\n"
     ]
    }
   ],
   "source": [
    " #b) Extract the second record in this dataset.\n",
    "print (employees[1])"
   ]
  },
  {
   "cell_type": "markdown",
   "metadata": {},
   "source": [
    "  c) Extract all rows from this dataset and print it in this format\n",
    "Alice works in department HR and earns 31000.\n",
    "Bob works in department IT and earns 41000.\n",
    "Charlie works in department HR and earns 28000.\n"
   ]
  },
  {
   "cell_type": "code",
   "execution_count": 105,
   "metadata": {},
   "outputs": [
    {
     "name": "stdout",
     "output_type": "stream",
     "text": [
      "Alice works in department HR and earns 31000\n",
      "Bob works in department IT and earns 41000\n",
      "Charlie works in department HR and earns 28000\n"
     ]
    }
   ],
   "source": [
    "for employee in employees:\n",
    "    name = employee[\"name\"]\n",
    "    department = employee[\"department\"]\n",
    "    salary = employee[\"salary\"]\n",
    "    print(f\"{name} works in department {department} and earns {salary}\")"
   ]
  },
  {
   "cell_type": "markdown",
   "metadata": {},
   "source": [
    "  d) Find out the average salary in Hire IT.\n",
    "\n",
    "  e) Find out the average salary among the HR department in Hire IT.\n",
    "\n",
    "  f) Extract all records where the department is HR.\n",
    "\n",
    "  g) Find all unique departments in this list."
   ]
  },
  {
   "cell_type": "code",
   "execution_count": 111,
   "metadata": {},
   "outputs": [
    {
     "name": "stdout",
     "output_type": "stream",
     "text": [
      "(The avarage salary in Hire IT is 33333.333333333336)\n"
     ]
    }
   ],
   "source": [
    "#d\n",
    "totola_salary = sum(employee[\"salary\"]for employee in employees)\n",
    "average_salary = totola_salary / len(employees)  \n",
    "\n",
    "print(f\"(The avarage salary in Hire IT is {average_salary})\")             "
   ]
  },
  {
   "cell_type": "code",
   "execution_count": 116,
   "metadata": {},
   "outputs": [
    {
     "name": "stdout",
     "output_type": "stream",
     "text": [
      "(The average salary in HR is 29500.0)\n"
     ]
    }
   ],
   "source": [
    "hr_salaries = [employee['salary'] for employee in employees if employee['department'] == 'HR']\n",
    "average_hr_salary = sum(hr_salaries) / len(hr_salaries)\n",
    "\n",
    "print(f\"(The average salary in HR is {average_hr_salary})\")"
   ]
  },
  {
   "cell_type": "code",
   "execution_count": 119,
   "metadata": {},
   "outputs": [
    {
     "name": "stdout",
     "output_type": "stream",
     "text": [
      "[{'employeeID': 0, 'name': 'Alice', 'department': 'HR', 'salary': 31000}, {'employeeID': 2, 'name': 'Charlie', 'department': 'HR', 'salary': 28000}]\n"
     ]
    }
   ],
   "source": [
    "#f  \n",
    "print([employee for employee in employees if employee['department']== 'HR'])"
   ]
  },
  {
   "cell_type": "code",
   "execution_count": 121,
   "metadata": {},
   "outputs": [
    {
     "data": {
      "text/plain": [
       "{'HR', 'IT'}"
      ]
     },
     "execution_count": 121,
     "metadata": {},
     "output_type": "execute_result"
    }
   ],
   "source": [
    "#g \n",
    "unique_departments = set([employee['department'] for employee in employees])\n",
    "unique_departments"
   ]
  },
  {
   "cell_type": "markdown",
   "metadata": {},
   "source": []
  },
  {
   "cell_type": "markdown",
   "metadata": {},
   "source": [
    "For the following exercises the data has now been updated with the age column\n",
    "employeeID \tname \tdepartment \tsalary \tage\n",
    "0 \tAlice \tHR \t31000 \t26\n",
    "1 \tBob \tIT \t41000 \t37\n",
    "2 \tCharlie \tHR \t28000 \t\n",
    "\n",
    "  h) Add this age column into our list of dictionaries. None should be used for empty fields.\n",
    "\n",
    "  i) A new employee named David starts at the IT department, with salary 35000 and has the age 30. Create a function to add this record to the dataset."
   ]
  },
  {
   "cell_type": "code",
   "execution_count": 134,
   "metadata": {},
   "outputs": [
    {
     "name": "stdout",
     "output_type": "stream",
     "text": [
      "[{'employeeID': 0, 'name': 'Alice', 'department': 'HR', 'salary': 31000, 'age': 26}, {'employeeID': 1, 'name': 'Bob', 'department': 'IT', 'salary': 41000, 'age': 37}, {'employeeID': 2, 'name': 'Charlie', 'department': 'HR', 'salary': 28000, 'age': None}]\n"
     ]
    }
   ],
   "source": [
    "h#\n",
    "ages = [26, 37, None]\n",
    "\n",
    "for i , employee in enumerate(employees):\n",
    "    employee['age']= ages[i]\n",
    "\n",
    "print(employees)\n",
    "\n"
   ]
  },
  {
   "cell_type": "code",
   "execution_count": 135,
   "metadata": {},
   "outputs": [],
   "source": [
    "#i\n",
    "append_employee = {'employeeID': 3, 'name': 'David', 'department': 'IT', 'salary': 35000, 'age': 30 }\n"
   ]
  },
  {
   "cell_type": "markdown",
   "metadata": {},
   "source": [
    "1. Gotta catch em all\n",
    "\n",
    "  a) Define a Pokemon class with attributes for name, type, and level. Instantiate a pokemon named Pikachu and give it an electric type with level 10."
   ]
  },
  {
   "cell_type": "code",
   "execution_count": 144,
   "metadata": {},
   "outputs": [
    {
     "name": "stdout",
     "output_type": "stream",
     "text": [
      "<__main__.pokemon object at 0x0000020AAA242550>\n"
     ]
    }
   ],
   "source": [
    "#1.a\n",
    "\n",
    "class pokemon:\n",
    "\n",
    "    def __init__(self, name, type, level):\n",
    "        self.name = name\n",
    "        self.type = type\n",
    "        self.level = level\n",
    "        \n",
    "pikachu = pokemon(name = \"Pikachu\", type = 'electric', level = 10)\n",
    "\n"
   ]
  }
 ],
 "metadata": {
  "kernelspec": {
   "display_name": ".venv",
   "language": "python",
   "name": "python3"
  },
  "language_info": {
   "codemirror_mode": {
    "name": "ipython",
    "version": 3
   },
   "file_extension": ".py",
   "mimetype": "text/x-python",
   "name": "python",
   "nbconvert_exporter": "python",
   "pygments_lexer": "ipython3",
   "version": "3.11.9"
  }
 },
 "nbformat": 4,
 "nbformat_minor": 2
}
