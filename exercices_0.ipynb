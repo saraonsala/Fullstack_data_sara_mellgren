{
 "cells": [
  {
   "cell_type": "markdown",
   "metadata": {},
   "source": [
    "#In a company `Hire IT`, there are these employees.\n",
    "\n",
    "| employeeID | name    | department | salary |\n",
    "| ---------: | :------ | :--------- | ------ |\n",
    "|          0 | Alice   | HR         | 31000  |\n",
    "|          1 | Bob     | IT         | 41000  |\n",
    "|          2 | Charlie | HR         | 28000  |\n"
   ]
  },
  {
   "cell_type": "code",
   "execution_count": 3,
   "metadata": {},
   "outputs": [
    {
     "data": {
      "text/plain": [
       "[int, str, str, float]"
      ]
     },
     "execution_count": 3,
     "metadata": {},
     "output_type": "execute_result"
    }
   ],
   "source": [
    "# a) Create a list of dictionaries to represent this data, where each dictionary represents each row.\n",
    "employeeID = int\n",
    "name = str\n",
    "department = str\n",
    "salary = float\n",
    "[employeeID, name, department, salary]"
   ]
  },
  {
   "cell_type": "code",
   "execution_count": 6,
   "metadata": {},
   "outputs": [
    {
     "ename": "NameError",
     "evalue": "name 'Alice' is not defined",
     "output_type": "error",
     "traceback": [
      "\u001b[1;31m---------------------------------------------------------------------------\u001b[0m",
      "\u001b[1;31mNameError\u001b[0m                                 Traceback (most recent call last)",
      "Cell \u001b[1;32mIn[6], line 1\u001b[0m\n\u001b[1;32m----> 1\u001b[0m [\u001b[38;5;241m0\u001b[39m, \u001b[43mAlice\u001b[49m, HR, \u001b[38;5;241m31000\u001b[39m,\n\u001b[0;32m      2\u001b[0m \u001b[38;5;241m1\u001b[39m, Bob, IT, \u001b[38;5;241m41000\u001b[39m,\n\u001b[0;32m      3\u001b[0m \u001b[38;5;241m2\u001b[39m,Charlie, HR, \u001b[38;5;241m28000\u001b[39m]\n",
      "\u001b[1;31mNameError\u001b[0m: name 'Alice' is not defined"
     ]
    }
   ],
   "source": [
    "[0, Alice, HR, 31000,\n",
    "1, Bob, IT, 41000,\n",
    "2,Charlie, HR, 28000]"
   ]
  },
  {
   "cell_type": "code",
   "execution_count": null,
   "metadata": {},
   "outputs": [],
   "source": [
    " #b) Extract the second record in this dataset.\n",
    "print [employeeID,1]"
   ]
  }
 ],
 "metadata": {
  "kernelspec": {
   "display_name": ".venv",
   "language": "python",
   "name": "python3"
  },
  "language_info": {
   "codemirror_mode": {
    "name": "ipython",
    "version": 3
   },
   "file_extension": ".py",
   "mimetype": "text/x-python",
   "name": "python",
   "nbconvert_exporter": "python",
   "pygments_lexer": "ipython3",
   "version": "3.11.9"
  }
 },
 "nbformat": 4,
 "nbformat_minor": 2
}
