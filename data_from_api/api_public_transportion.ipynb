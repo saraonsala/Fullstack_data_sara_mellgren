{
 "cells": [
  {
   "cell_type": "code",
   "execution_count": 25,
   "metadata": {},
   "outputs": [
    {
     "data": {
      "text/plain": [
       "dict_keys(['Trip', 'ResultStatus', 'TechnicalMessages', 'serverVersion', 'dialectVersion', 'planRtTs', 'requestId', 'scrB', 'scrF'])"
      ]
     },
     "execution_count": 25,
     "metadata": {},
     "output_type": "execute_result"
    }
   ],
   "source": [
    "from dotenv import load_dotenv\n",
    "import os\n",
    "import requests\n",
    "\n",
    "load_dotenv()\n",
    "\n",
    "API_KEY = os.getenv(\"API_KEY\")\n",
    "URL = f\"https://api.resrobot.se/v2.1/trip?format=json&originId=740000001&destId=740000003&passlist=true&showPassingPoints=true&accessId={API_KEY}\"\n",
    "response = requests.get(URL)\n",
    "result= response.json()\n",
    "result.keys() \n"
   ]
  },
  {
   "cell_type": "code",
   "execution_count": 26,
   "metadata": {},
   "outputs": [
    {
     "data": {
      "text/plain": [
       "9"
      ]
     },
     "execution_count": 26,
     "metadata": {},
     "output_type": "execute_result"
    }
   ],
   "source": [
    "len(result[\"Trip\"])"
   ]
  },
  {
   "cell_type": "code",
   "execution_count": 27,
   "metadata": {},
   "outputs": [
    {
     "data": {
      "text/plain": [
       "dict_keys(['Origin', 'Destination', 'ServiceDays', 'LegList', 'calculation', 'TripStatus', 'idx', 'tripId', 'ctxRecon', 'duration', 'rtDuration', 'checksum'])"
      ]
     },
     "execution_count": 27,
     "metadata": {},
     "output_type": "execute_result"
    }
   ],
   "source": [
    "result[\"Trip\"][0].keys()"
   ]
  },
  {
   "cell_type": "code",
   "execution_count": 28,
   "metadata": {},
   "outputs": [
    {
     "data": {
      "text/plain": [
       "'Stockholm Centralstation'"
      ]
     },
     "execution_count": 28,
     "metadata": {},
     "output_type": "execute_result"
    }
   ],
   "source": [
    "result[\"Trip\"][0][\"LegList\"][\"Leg\"][0][\"Origin\"][\"name\"]\n"
   ]
  },
  {
   "cell_type": "code",
   "execution_count": 29,
   "metadata": {},
   "outputs": [
    {
     "data": {
      "text/plain": [
       "'Malmö Centralstation'"
      ]
     },
     "execution_count": 29,
     "metadata": {},
     "output_type": "execute_result"
    }
   ],
   "source": [
    "result[\"Trip\"][0][\"LegList\"][\"Leg\"][0][\"Destination\"][\"name\"]   "
   ]
  },
  {
   "cell_type": "code",
   "execution_count": 30,
   "metadata": {},
   "outputs": [
    {
     "data": {
      "text/plain": [
       "dict_keys(['Trip', 'ResultStatus', 'TechnicalMessages', 'serverVersion', 'dialectVersion', 'planRtTs', 'requestId', 'scrB', 'scrF'])"
      ]
     },
     "execution_count": 30,
     "metadata": {},
     "output_type": "execute_result"
    }
   ],
   "source": [
    "def get_trips(origin_id=740000001, destination_id=740098001):\n",
    "    \"\"\"origing_id and destination_id can be found from Stop lookup API\"\"\"\n",
    "    url = f\"https://api.resrobot.se/v2.1/trip?format=json&originId={origin_id}&destId={destination_id}&passlist=true&showPassingPoints=true&accessId={API_KEY}\"\n",
    "\n",
    "    try:\n",
    "        response = requests.get(url)\n",
    "        response.raise_for_status()\n",
    "\n",
    "        return response.json()\n",
    "    except requests.exceptions.RequestException as err:\n",
    "        print(f\"Network or HTTP error: {err}\")\n",
    "\n",
    "\n",
    "result = get_trips()\n",
    "result.keys()"
   ]
  },
  {
   "cell_type": "code",
   "execution_count": 36,
   "metadata": {},
   "outputs": [
    {
     "data": {
      "text/plain": [
       "dict_keys(['Origin', 'Destination', 'ServiceDays', 'LegList', 'calculation', 'TripStatus', 'idx', 'tripId', 'ctxRecon', 'duration', 'rtDuration', 'checksum', 'transferCount'])"
      ]
     },
     "execution_count": 36,
     "metadata": {},
     "output_type": "execute_result"
    }
   ],
   "source": [
    "# checks first trip keys\n",
    "example_trip = result[\"Trip\"][0]\n",
    "example_trip.keys()"
   ]
  },
  {
   "cell_type": "code",
   "execution_count": 39,
   "metadata": {},
   "outputs": [
    {
     "data": {
      "text/plain": [
       "{'name': 'Stockholm Centralstation',\n",
       " 'type': 'ST',\n",
       " 'id': 'A=1@O=Stockholm Centralstation@X=18058151@Y=59330136@U=1@L=740000001@',\n",
       " 'extId': '740000001',\n",
       " 'lon': 18.058151,\n",
       " 'lat': 59.330136,\n",
       " 'routeIdx': 0,\n",
       " 'prognosisType': 'PROGNOSED',\n",
       " 'time': '12:41:00',\n",
       " 'date': '2025-01-07',\n",
       " 'minimumChangeDuration': 'PT20M'}"
      ]
     },
     "execution_count": 39,
     "metadata": {},
     "output_type": "execute_result"
    }
   ],
   "source": [
    "example_trip['Origin']"
   ]
  },
  {
   "cell_type": "code",
   "execution_count": 40,
   "metadata": {},
   "outputs": [
    {
     "data": {
      "text/plain": [
       "{'name': 'Göteborg Centralstation',\n",
       " 'type': 'ST',\n",
       " 'id': 'A=1@O=Göteborg Centralstation@X=11973479@Y=57708895@U=1@L=740000002@',\n",
       " 'extId': '740000002',\n",
       " 'lon': 11.973479,\n",
       " 'lat': 57.708895,\n",
       " 'routeIdx': 18,\n",
       " 'prognosisType': 'PROGNOSED',\n",
       " 'time': '17:00:00',\n",
       " 'date': '2025-01-07',\n",
       " 'minimumChangeDuration': 'PT15M'}"
      ]
     },
     "execution_count": 40,
     "metadata": {},
     "output_type": "execute_result"
    }
   ],
   "source": [
    "example_trip['Destination']"
   ]
  },
  {
   "cell_type": "code",
   "execution_count": 44,
   "metadata": {},
   "outputs": [
    {
     "data": {
      "text/plain": [
       "dict_keys(['Origin', 'Destination', 'Notes', 'JourneyDetailRef', 'JourneyStatus', 'Product', 'Stops', 'JourneyDetail', 'id', 'idx', 'name', 'number', 'category', 'type', 'reachable', 'waitingState', 'direction', 'directionFlag', 'duration', 'minimumChangeDuration'])"
      ]
     },
     "execution_count": 44,
     "metadata": {},
     "output_type": "execute_result"
    }
   ],
   "source": [
    "example_trip['LegList']['Leg'][0].keys()"
   ]
  },
  {
   "cell_type": "code",
   "execution_count": 48,
   "metadata": {},
   "outputs": [
    {
     "data": {
      "text/plain": [
       "[{'name': 'Stockholm Centralstation',\n",
       "  'id': 'A=1@O=Stockholm Centralstation@X=18058151@Y=59330136@U=1@L=740000001@',\n",
       "  'extId': '740000001',\n",
       "  'routeIdx': 0,\n",
       "  'lon': 18.058151,\n",
       "  'lat': 59.330136,\n",
       "  'depPrognosisType': 'PROGNOSED',\n",
       "  'depTime': '12:41:00',\n",
       "  'depDate': '2025-01-07',\n",
       "  'depDir': 'Karlstad Centralstation',\n",
       "  'minimumChangeDuration': 'PT20M'},\n",
       " {'Notes': {'Note': [{'value': 'Stannar endast för påstigande',\n",
       "     'key': 'text.realtime.stop.exit.disabled',\n",
       "     'type': 'R',\n",
       "     'txtN': 'Stannar endast för påstigande'}]},\n",
       "  'name': 'Södertälje Syd station',\n",
       "  'id': 'A=1@O=Södertälje Syd station@X=17645367@Y=59162415@U=1@L=740000055@',\n",
       "  'extId': '740000055',\n",
       "  'routeIdx': 1,\n",
       "  'lon': 17.645367,\n",
       "  'lat': 59.162415,\n",
       "  'depTime': '13:01:00',\n",
       "  'depDate': '2025-01-07',\n",
       "  'alighting': False,\n",
       "  'minimumChangeDuration': 'PT10M'},\n",
       " {'name': 'Katrineholm Centralstation',\n",
       "  'id': 'A=1@O=Katrineholm Centralstation@X=16208324@Y=58996591@U=1@L=740000166@',\n",
       "  'extId': '740000166',\n",
       "  'routeIdx': 2,\n",
       "  'lon': 16.208324,\n",
       "  'lat': 58.996591,\n",
       "  'depTime': '13:44:00',\n",
       "  'depDate': '2025-01-07',\n",
       "  'arrTime': '13:43:00',\n",
       "  'arrDate': '2025-01-07',\n",
       "  'minimumChangeDuration': 'PT10M'},\n",
       " {'name': 'Hallsberg station',\n",
       "  'id': 'A=1@O=Hallsberg station@X=15110391@Y=59066698@U=1@L=740000077@',\n",
       "  'extId': '740000077',\n",
       "  'routeIdx': 3,\n",
       "  'lon': 15.110391,\n",
       "  'lat': 59.066698,\n",
       "  'arrTime': '14:19:00',\n",
       "  'arrDate': '2025-01-07',\n",
       "  'minimumChangeDuration': 'PT10M'}]"
      ]
     },
     "execution_count": 48,
     "metadata": {},
     "output_type": "execute_result"
    }
   ],
   "source": [
    "example_stops = example_trip['LegList']['Leg'][0]['Stops']['Stop']\n",
    "example_stops"
   ]
  },
  {
   "cell_type": "code",
   "execution_count": 54,
   "metadata": {},
   "outputs": [
    {
     "name": "stdout",
     "output_type": "stream",
     "text": [
      "Stockholm Centralstation\n",
      "Södertälje Syd station\n",
      "Katrineholm Centralstation\n",
      "Hallsberg station\n"
     ]
    }
   ],
   "source": [
    "for stop in example_stops:\n",
    "    print(stop['name'])\n"
   ]
  },
  {
   "cell_type": "code",
   "execution_count": 55,
   "metadata": {},
   "outputs": [
    {
     "data": {
      "text/plain": [
       "[{'Stockholm Centralstation': None},\n",
       " {'Södertälje Syd station': None},\n",
       " {'Katrineholm Centralstation': '13:43:00'},\n",
       " {'Hallsberg station': '14:19:00'}]"
      ]
     },
     "execution_count": 55,
     "metadata": {},
     "output_type": "execute_result"
    }
   ],
   "source": [
    "[{stop.get(\"name\"): stop.get(\"arrTime\")} for stop in example_stops]"
   ]
  },
  {
   "cell_type": "markdown",
   "metadata": {},
   "source": [
    "# Stop lookup API to find id"
   ]
  },
  {
   "cell_type": "code",
   "execution_count": null,
   "metadata": {},
   "outputs": [
    {
     "data": {
      "text/plain": [
       "dict_keys(['stopLocationOrCoordLocation', 'TechnicalMessages', 'serverVersion', 'dialectVersion', 'requestId'])"
      ]
     },
     "execution_count": 58,
     "metadata": {},
     "output_type": "execute_result"
    }
   ],
   "source": [
    "location = \"göteborg\"\n",
    "url = f\"https://api.resrobot.se/v2.1/location.name?input={location}&format=json&accessId={API_KEY}\"\n",
    "response = requests.get(url)\n",
    "result = response.json()\n",
    "result.keys()"
   ]
  },
  {
   "cell_type": "code",
   "execution_count": 63,
   "metadata": {},
   "outputs": [
    {
     "data": {
      "text/plain": [
       "10"
      ]
     },
     "execution_count": 63,
     "metadata": {},
     "output_type": "execute_result"
    }
   ],
   "source": [
    "stop_locations = result[\"stopLocationOrCoordLocation\"]\n",
    "len(stop_locations)"
   ]
  },
  {
   "cell_type": "code",
   "execution_count": 61,
   "metadata": {},
   "outputs": [
    {
     "data": {
      "text/plain": [
       "{'StopLocation': {'productAtStop': [{'icon': {'res': 'prod_gen'}, 'cls': '2'},\n",
       "   {'icon': {'res': 'prod_gen'}, 'cls': '4'},\n",
       "   {'icon': {'res': 'prod_gen'}, 'cls': '8'},\n",
       "   {'icon': {'res': 'prod_gen'}, 'cls': '16'},\n",
       "   {'icon': {'res': 'prod_gen'}, 'cls': '64'},\n",
       "   {'icon': {'res': 'prod_gen'}, 'cls': '128'},\n",
       "   {'icon': {'res': 'prod_gen'}, 'cls': '256'}],\n",
       "  'timezoneOffset': 60,\n",
       "  'id': 'A=1@O=GÖTEBORG@X=11973479@Y=57708895@U=1@L=740098001@B=1@p=1736224604@',\n",
       "  'extId': '740098001',\n",
       "  'name': 'GÖTEBORG',\n",
       "  'lon': 11.973479,\n",
       "  'lat': 57.708895,\n",
       "  'weight': 15424,\n",
       "  'products': 222,\n",
       "  'meta': True,\n",
       "  'minimumChangeDuration': 'PT26M'}}"
      ]
     },
     "execution_count": 61,
     "metadata": {},
     "output_type": "execute_result"
    }
   ],
   "source": [
    "stop_locations[0]"
   ]
  },
  {
   "cell_type": "code",
   "execution_count": 64,
   "metadata": {},
   "outputs": [
    {
     "data": {
      "text/plain": [
       "dict_keys(['productAtStop', 'timezoneOffset', 'id', 'extId', 'name', 'lon', 'lat', 'weight', 'products', 'meta', 'minimumChangeDuration'])"
      ]
     },
     "execution_count": 64,
     "metadata": {},
     "output_type": "execute_result"
    }
   ],
   "source": [
    "stop_locations[0][\"StopLocation\"].keys()"
   ]
  },
  {
   "cell_type": "code",
   "execution_count": 67,
   "metadata": {},
   "outputs": [
    {
     "data": {
      "text/plain": [
       "('GÖTEBORG', '740098001')"
      ]
     },
     "execution_count": 67,
     "metadata": {},
     "output_type": "execute_result"
    }
   ],
   "source": [
    "stop_locations[0][\"StopLocation\"][\"name\"], stop_locations[0][\"StopLocation\"][\"extId\"]"
   ]
  },
  {
   "cell_type": "code",
   "execution_count": null,
   "metadata": {},
   "outputs": [],
   "source": []
  }
 ],
 "metadata": {
  "kernelspec": {
   "display_name": ".venv",
   "language": "python",
   "name": "python3"
  },
  "language_info": {
   "codemirror_mode": {
    "name": "ipython",
    "version": 3
   },
   "file_extension": ".py",
   "mimetype": "text/x-python",
   "name": "python",
   "nbconvert_exporter": "python",
   "pygments_lexer": "ipython3",
   "version": "3.11.9"
  }
 },
 "nbformat": 4,
 "nbformat_minor": 2
}
