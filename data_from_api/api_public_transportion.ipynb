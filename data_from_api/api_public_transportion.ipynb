{
 "cells": [
  {
   "cell_type": "code",
   "execution_count": 25,
   "metadata": {},
   "outputs": [
    {
     "data": {
      "text/plain": [
       "dict_keys(['Trip', 'ResultStatus', 'TechnicalMessages', 'serverVersion', 'dialectVersion', 'planRtTs', 'requestId', 'scrB', 'scrF'])"
      ]
     },
     "execution_count": 25,
     "metadata": {},
     "output_type": "execute_result"
    }
   ],
   "source": [
    "from dotenv import load_dotenv\n",
    "import os\n",
    "import requests\n",
    "\n",
    "load_dotenv()\n",
    "\n",
    "API_KEY = os.getenv(\"API_KEY\")\n",
    "URL = f\"https://api.resrobot.se/v2.1/trip?format=json&originId=740000001&destId=740000003&passlist=true&showPassingPoints=true&accessId={API_KEY}\"\n",
    "response = requests.get(URL)\n",
    "result= response.json()\n",
    "result.keys() \n"
   ]
  },
  {
   "cell_type": "code",
   "execution_count": 26,
   "metadata": {},
   "outputs": [
    {
     "data": {
      "text/plain": [
       "9"
      ]
     },
     "execution_count": 26,
     "metadata": {},
     "output_type": "execute_result"
    }
   ],
   "source": [
    "len(result[\"Trip\"])"
   ]
  },
  {
   "cell_type": "code",
   "execution_count": 27,
   "metadata": {},
   "outputs": [
    {
     "data": {
      "text/plain": [
       "dict_keys(['Origin', 'Destination', 'ServiceDays', 'LegList', 'calculation', 'TripStatus', 'idx', 'tripId', 'ctxRecon', 'duration', 'rtDuration', 'checksum'])"
      ]
     },
     "execution_count": 27,
     "metadata": {},
     "output_type": "execute_result"
    }
   ],
   "source": [
    "result[\"Trip\"][0].keys()"
   ]
  },
  {
   "cell_type": "code",
   "execution_count": 28,
   "metadata": {},
   "outputs": [
    {
     "data": {
      "text/plain": [
       "'Stockholm Centralstation'"
      ]
     },
     "execution_count": 28,
     "metadata": {},
     "output_type": "execute_result"
    }
   ],
   "source": [
    "result[\"Trip\"][0][\"LegList\"][\"Leg\"][0][\"Origin\"][\"name\"]\n"
   ]
  },
  {
   "cell_type": "code",
   "execution_count": 29,
   "metadata": {},
   "outputs": [
    {
     "data": {
      "text/plain": [
       "'Malmö Centralstation'"
      ]
     },
     "execution_count": 29,
     "metadata": {},
     "output_type": "execute_result"
    }
   ],
   "source": [
    "result[\"Trip\"][0][\"LegList\"][\"Leg\"][0][\"Destination\"][\"name\"]   "
   ]
  },
  {
   "cell_type": "code",
   "execution_count": 30,
   "metadata": {},
   "outputs": [
    {
     "data": {
      "text/plain": [
       "dict_keys(['Trip', 'ResultStatus', 'TechnicalMessages', 'serverVersion', 'dialectVersion', 'planRtTs', 'requestId', 'scrB', 'scrF'])"
      ]
     },
     "execution_count": 30,
     "metadata": {},
     "output_type": "execute_result"
    }
   ],
   "source": [
    "def get_trips(origin_id=740000001, destination_id=740098001):\n",
    "    \"\"\"origing_id and destination_id can be found from Stop lookup API\"\"\"\n",
    "    url = f\"https://api.resrobot.se/v2.1/trip?format=json&originId={origin_id}&destId={destination_id}&passlist=true&showPassingPoints=true&accessId={API_KEY}\"\n",
    "\n",
    "    try:\n",
    "        response = requests.get(url)\n",
    "        response.raise_for_status()\n",
    "\n",
    "        return response.json()\n",
    "    except requests.exceptions.RequestException as err:\n",
    "        print(f\"Network or HTTP error: {err}\")\n",
    "\n",
    "\n",
    "result = get_trips()\n",
    "result.keys()"
   ]
  },
  {
   "cell_type": "code",
   "execution_count": 36,
   "metadata": {},
   "outputs": [
    {
     "data": {
      "text/plain": [
       "dict_keys(['Origin', 'Destination', 'ServiceDays', 'LegList', 'calculation', 'TripStatus', 'idx', 'tripId', 'ctxRecon', 'duration', 'rtDuration', 'checksum', 'transferCount'])"
      ]
     },
     "execution_count": 36,
     "metadata": {},
     "output_type": "execute_result"
    }
   ],
   "source": [
    "# checks first trip keys\n",
    "example_trip = result[\"Trip\"][0]\n",
    "example_trip.keys()"
   ]
  },
  {
   "cell_type": "code",
   "execution_count": 39,
   "metadata": {},
   "outputs": [
    {
     "data": {
      "text/plain": [
       "{'name': 'Stockholm Centralstation',\n",
       " 'type': 'ST',\n",
       " 'id': 'A=1@O=Stockholm Centralstation@X=18058151@Y=59330136@U=1@L=740000001@',\n",
       " 'extId': '740000001',\n",
       " 'lon': 18.058151,\n",
       " 'lat': 59.330136,\n",
       " 'routeIdx': 0,\n",
       " 'prognosisType': 'PROGNOSED',\n",
       " 'time': '12:41:00',\n",
       " 'date': '2025-01-07',\n",
       " 'minimumChangeDuration': 'PT20M'}"
      ]
     },
     "execution_count": 39,
     "metadata": {},
     "output_type": "execute_result"
    }
   ],
   "source": [
    "example_trip['Origin']"
   ]
  },
  {
   "cell_type": "code",
   "execution_count": 40,
   "metadata": {},
   "outputs": [
    {
     "data": {
      "text/plain": [
       "{'name': 'Göteborg Centralstation',\n",
       " 'type': 'ST',\n",
       " 'id': 'A=1@O=Göteborg Centralstation@X=11973479@Y=57708895@U=1@L=740000002@',\n",
       " 'extId': '740000002',\n",
       " 'lon': 11.973479,\n",
       " 'lat': 57.708895,\n",
       " 'routeIdx': 18,\n",
       " 'prognosisType': 'PROGNOSED',\n",
       " 'time': '17:00:00',\n",
       " 'date': '2025-01-07',\n",
       " 'minimumChangeDuration': 'PT15M'}"
      ]
     },
     "execution_count": 40,
     "metadata": {},
     "output_type": "execute_result"
    }
   ],
   "source": [
    "example_trip['Destination']"
   ]
  },
  {
   "cell_type": "code",
   "execution_count": 43,
   "metadata": {},
   "outputs": [
    {
     "data": {
      "text/plain": [
       "[{'Origin': {'name': 'Stockholm Centralstation',\n",
       "   'type': 'ST',\n",
       "   'id': 'A=1@O=Stockholm Centralstation@X=18058151@Y=59330136@U=1@L=740000001@',\n",
       "   'extId': '740000001',\n",
       "   'lon': 18.058151,\n",
       "   'lat': 59.330136,\n",
       "   'routeIdx': 0,\n",
       "   'prognosisType': 'PROGNOSED',\n",
       "   'time': '12:41:00',\n",
       "   'date': '2025-01-07',\n",
       "   'minimumChangeDuration': 'PT20M'},\n",
       "  'Destination': {'name': 'Hallsberg station',\n",
       "   'type': 'ST',\n",
       "   'id': 'A=1@O=Hallsberg station@X=15110391@Y=59066698@U=1@L=740000077@',\n",
       "   'extId': '740000077',\n",
       "   'lon': 15.110391,\n",
       "   'lat': 59.066698,\n",
       "   'routeIdx': 3,\n",
       "   'prognosisType': 'PROGNOSED',\n",
       "   'time': '14:19:00',\n",
       "   'date': '2025-01-07',\n",
       "   'minimumChangeDuration': 'PT10M'},\n",
       "  'Notes': {'Note': [{'value': 'Obligatorisk platsbokning',\n",
       "     'key': 'AF',\n",
       "     'type': 'A',\n",
       "     'routeIdxFrom': 0,\n",
       "     'routeIdxTo': 3,\n",
       "     'txtN': 'Obligatorisk platsbokning'},\n",
       "    {'value': 'Rullstolslyft',\n",
       "     'key': 'AN',\n",
       "     'type': 'A',\n",
       "     'routeIdxFrom': 0,\n",
       "     'routeIdxTo': 3,\n",
       "     'txtN': 'Rullstolslyft'},\n",
       "    {'value': 'WiFi',\n",
       "     'key': 'AW',\n",
       "     'type': 'A',\n",
       "     'routeIdxFrom': 0,\n",
       "     'routeIdxTo': 3,\n",
       "     'txtN': 'WiFi'},\n",
       "    {'value': 'EU förordning 2021/782',\n",
       "     'key': 'EJ',\n",
       "     'type': 'A',\n",
       "     'routeIdxFrom': 0,\n",
       "     'routeIdxTo': 3,\n",
       "     'txtN': 'EU förordning 2021/782'}]},\n",
       "  'JourneyDetailRef': {'ref': '1|88774|0|1|7012025'},\n",
       "  'JourneyStatus': 'P',\n",
       "  'Product': [{'icon': {'res': 'prod_gen'},\n",
       "    'operatorInfo': {'name': 'SJ',\n",
       "     'nameS': '74',\n",
       "     'nameN': '74',\n",
       "     'nameL': 'SJ',\n",
       "     'id': '74'},\n",
       "    'name': 'InterCity 665',\n",
       "    'internalName': 'InterCity 665',\n",
       "    'displayNumber': '665',\n",
       "    'num': '665',\n",
       "    'line': '665',\n",
       "    'lineId': '1074066500001',\n",
       "    'catOut': 'JIC',\n",
       "    'catIn': 'JIC',\n",
       "    'catCode': '2',\n",
       "    'cls': '4',\n",
       "    'catOutS': 'JIC',\n",
       "    'catOutL': 'InterCity',\n",
       "    'operatorCode': '74',\n",
       "    'operator': 'SJ',\n",
       "    'admin': '074___',\n",
       "    'routeIdxFrom': 0,\n",
       "    'routeIdxTo': 3,\n",
       "    'matchId': '665;665;47914'}],\n",
       "  'Stops': {'Stop': [{'name': 'Stockholm Centralstation',\n",
       "     'id': 'A=1@O=Stockholm Centralstation@X=18058151@Y=59330136@U=1@L=740000001@',\n",
       "     'extId': '740000001',\n",
       "     'routeIdx': 0,\n",
       "     'lon': 18.058151,\n",
       "     'lat': 59.330136,\n",
       "     'depPrognosisType': 'PROGNOSED',\n",
       "     'depTime': '12:41:00',\n",
       "     'depDate': '2025-01-07',\n",
       "     'depDir': 'Karlstad Centralstation',\n",
       "     'minimumChangeDuration': 'PT20M'},\n",
       "    {'Notes': {'Note': [{'value': 'Stannar endast för påstigande',\n",
       "        'key': 'text.realtime.stop.exit.disabled',\n",
       "        'type': 'R',\n",
       "        'txtN': 'Stannar endast för påstigande'}]},\n",
       "     'name': 'Södertälje Syd station',\n",
       "     'id': 'A=1@O=Södertälje Syd station@X=17645367@Y=59162415@U=1@L=740000055@',\n",
       "     'extId': '740000055',\n",
       "     'routeIdx': 1,\n",
       "     'lon': 17.645367,\n",
       "     'lat': 59.162415,\n",
       "     'depTime': '13:01:00',\n",
       "     'depDate': '2025-01-07',\n",
       "     'alighting': False,\n",
       "     'minimumChangeDuration': 'PT10M'},\n",
       "    {'name': 'Katrineholm Centralstation',\n",
       "     'id': 'A=1@O=Katrineholm Centralstation@X=16208324@Y=58996591@U=1@L=740000166@',\n",
       "     'extId': '740000166',\n",
       "     'routeIdx': 2,\n",
       "     'lon': 16.208324,\n",
       "     'lat': 58.996591,\n",
       "     'depTime': '13:44:00',\n",
       "     'depDate': '2025-01-07',\n",
       "     'arrTime': '13:43:00',\n",
       "     'arrDate': '2025-01-07',\n",
       "     'minimumChangeDuration': 'PT10M'},\n",
       "    {'name': 'Hallsberg station',\n",
       "     'id': 'A=1@O=Hallsberg station@X=15110391@Y=59066698@U=1@L=740000077@',\n",
       "     'extId': '740000077',\n",
       "     'routeIdx': 3,\n",
       "     'lon': 15.110391,\n",
       "     'lat': 59.066698,\n",
       "     'arrTime': '14:19:00',\n",
       "     'arrDate': '2025-01-07',\n",
       "     'minimumChangeDuration': 'PT10M'}]},\n",
       "  'JourneyDetail': {'ref': '1|88774|0|1|7012025',\n",
       "   'dayOfOperation': '2025-01-07'},\n",
       "  'id': '0',\n",
       "  'idx': 0,\n",
       "  'name': 'InterCity 665',\n",
       "  'number': '665',\n",
       "  'category': 'JIC',\n",
       "  'type': 'JNY',\n",
       "  'reachable': True,\n",
       "  'waitingState': 'UNDEF',\n",
       "  'direction': 'Karlstad Centralstation',\n",
       "  'directionFlag': '1',\n",
       "  'duration': 'PT1H38M',\n",
       "  'minimumChangeDuration': 'PT10M'},\n",
       " {'Origin': {'name': 'Hallsberg station',\n",
       "   'type': 'ST',\n",
       "   'id': 'A=1@O=Hallsberg station@X=15110391@Y=59066698@U=1@L=740000077@',\n",
       "   'extId': '740000077',\n",
       "   'lon': 15.110391,\n",
       "   'lat': 59.066698,\n",
       "   'routeIdx': 10,\n",
       "   'prognosisType': 'PROGNOSED',\n",
       "   'time': '14:40:00',\n",
       "   'date': '2025-01-07',\n",
       "   'minimumChangeDuration': 'PT10M'},\n",
       "  'Destination': {'name': 'Göteborg Centralstation',\n",
       "   'type': 'ST',\n",
       "   'id': 'A=1@O=Göteborg Centralstation@X=11973479@Y=57708895@U=1@L=740000002@',\n",
       "   'extId': '740000002',\n",
       "   'lon': 11.973479,\n",
       "   'lat': 57.708895,\n",
       "   'routeIdx': 18,\n",
       "   'prognosisType': 'PROGNOSED',\n",
       "   'time': '17:00:00',\n",
       "   'date': '2025-01-07',\n",
       "   'minimumChangeDuration': 'PT15M'},\n",
       "  'Notes': {'Note': [{'value': '2 kl har ej reservering',\n",
       "     'key': 'AB',\n",
       "     'type': 'A',\n",
       "     'routeIdxFrom': 13,\n",
       "     'routeIdxTo': 18,\n",
       "     'txtN': '2 kl har ej reservering'},\n",
       "    {'value': 'Obligatorisk platsbokning',\n",
       "     'key': 'AF',\n",
       "     'type': 'A',\n",
       "     'routeIdxFrom': 10,\n",
       "     'routeIdxTo': 18,\n",
       "     'txtN': 'Obligatorisk platsbokning'},\n",
       "    {'value': 'Rullstolslyft',\n",
       "     'key': 'AN',\n",
       "     'type': 'A',\n",
       "     'routeIdxFrom': 10,\n",
       "     'routeIdxTo': 18,\n",
       "     'txtN': 'Rullstolslyft'},\n",
       "    {'value': 'WiFi',\n",
       "     'key': 'AW',\n",
       "     'type': 'A',\n",
       "     'routeIdxFrom': 10,\n",
       "     'routeIdxTo': 18,\n",
       "     'txtN': 'WiFi'},\n",
       "    {'value': 'EU förordning 2021/782',\n",
       "     'key': 'EJ',\n",
       "     'type': 'A',\n",
       "     'routeIdxFrom': 10,\n",
       "     'routeIdxTo': 18,\n",
       "     'txtN': 'EU förordning 2021/782'},\n",
       "    {'value': 'Servering finns ej',\n",
       "     'key': 'SI',\n",
       "     'type': 'A',\n",
       "     'routeIdxFrom': 10,\n",
       "     'routeIdxTo': 18,\n",
       "     'txtN': 'Servering finns ej'}]},\n",
       "  'JourneyDetailRef': {'ref': '1|135686|0|1|7012025'},\n",
       "  'JourneyStatus': 'P',\n",
       "  'Product': [{'icon': {'res': 'prod_gen'},\n",
       "    'operatorInfo': {'name': 'SJ',\n",
       "     'nameS': '74',\n",
       "     'nameN': '74',\n",
       "     'nameL': 'SJ',\n",
       "     'id': '74'},\n",
       "    'name': 'Regional Tåg 173',\n",
       "    'internalName': 'Regional Tåg 173',\n",
       "    'displayNumber': '173',\n",
       "    'num': '173',\n",
       "    'line': '173',\n",
       "    'lineId': '1074017300001',\n",
       "    'catOut': 'JRE',\n",
       "    'catIn': 'JRE',\n",
       "    'catCode': '2',\n",
       "    'cls': '4',\n",
       "    'catOutS': 'JRE',\n",
       "    'catOutL': 'Regional Tåg',\n",
       "    'operatorCode': '74',\n",
       "    'operator': 'SJ',\n",
       "    'admin': '074___',\n",
       "    'routeIdxFrom': 10,\n",
       "    'routeIdxTo': 18,\n",
       "    'matchId': '173;173;30991'}],\n",
       "  'Stops': {'Stop': [{'name': 'Hallsberg station',\n",
       "     'id': 'A=1@O=Hallsberg station@X=15110391@Y=59066698@U=1@L=740000077@',\n",
       "     'extId': '740000077',\n",
       "     'routeIdx': 10,\n",
       "     'lon': 15.110391,\n",
       "     'lat': 59.066698,\n",
       "     'depTime': '14:40:00',\n",
       "     'depDate': '2025-01-07',\n",
       "     'depDir': 'Göteborg Centralstation',\n",
       "     'minimumChangeDuration': 'PT10M'},\n",
       "    {'name': 'Laxå station',\n",
       "     'id': 'A=1@O=Laxå station@X=14616658@Y=58989391@U=1@L=740000194@',\n",
       "     'extId': '740000194',\n",
       "     'routeIdx': 11,\n",
       "     'lon': 14.616658,\n",
       "     'lat': 58.989391,\n",
       "     'depTime': '14:57:00',\n",
       "     'depDate': '2025-01-07',\n",
       "     'arrTime': '14:57:00',\n",
       "     'arrDate': '2025-01-07',\n",
       "     'minimumChangeDuration': 'PT10M'},\n",
       "    {'name': 'Töreboda station',\n",
       "     'id': 'A=1@O=Töreboda station@X=14128391@Y=58706024@U=1@L=740000183@',\n",
       "     'extId': '740000183',\n",
       "     'routeIdx': 12,\n",
       "     'lon': 14.128391,\n",
       "     'lat': 58.706024,\n",
       "     'depTime': '15:20:00',\n",
       "     'depDate': '2025-01-07',\n",
       "     'arrTime': '15:20:00',\n",
       "     'arrDate': '2025-01-07',\n",
       "     'minimumChangeDuration': 'PT8M'},\n",
       "    {'name': 'Skövde Centralstation',\n",
       "     'id': 'A=1@O=Skövde Centralstation@X=13853195@Y=58390898@U=1@L=740000008@',\n",
       "     'extId': '740000008',\n",
       "     'routeIdx': 13,\n",
       "     'lon': 13.853195,\n",
       "     'lat': 58.390898,\n",
       "     'depTime': '15:36:00',\n",
       "     'depDate': '2025-01-07',\n",
       "     'arrTime': '15:35:00',\n",
       "     'arrDate': '2025-01-07',\n",
       "     'minimumChangeDuration': 'PT10M'},\n",
       "    {'name': 'Falköping Centralstation',\n",
       "     'id': 'A=1@O=Falköping Centralstation@X=13553791@Y=58176101@U=1@L=740000060@',\n",
       "     'extId': '740000060',\n",
       "     'routeIdx': 14,\n",
       "     'lon': 13.553791,\n",
       "     'lat': 58.176101,\n",
       "     'depTime': '15:52:00',\n",
       "     'depDate': '2025-01-07',\n",
       "     'arrTime': '15:51:00',\n",
       "     'arrDate': '2025-01-07',\n",
       "     'minimumChangeDuration': 'PT8M'},\n",
       "    {'name': 'Herrljunga station',\n",
       "     'id': 'A=1@O=Herrljunga station@X=13021279@Y=58079188@U=1@L=740000040@',\n",
       "     'extId': '740000040',\n",
       "     'routeIdx': 15,\n",
       "     'lon': 13.021279,\n",
       "     'lat': 58.079188,\n",
       "     'depTime': '16:06:00',\n",
       "     'depDate': '2025-01-07',\n",
       "     'arrTime': '16:06:00',\n",
       "     'arrDate': '2025-01-07',\n",
       "     'minimumChangeDuration': 'PT8M'},\n",
       "    {'name': 'Vårgårda station',\n",
       "     'id': 'A=1@O=Vårgårda station@X=12810285@Y=58031204@U=1@L=740000569@',\n",
       "     'extId': '740000569',\n",
       "     'routeIdx': 16,\n",
       "     'lon': 12.810285,\n",
       "     'lat': 58.031204,\n",
       "     'depTime': '16:14:00',\n",
       "     'depDate': '2025-01-07',\n",
       "     'arrTime': '16:14:00',\n",
       "     'arrDate': '2025-01-07',\n",
       "     'minimumChangeDuration': 'PT10M'},\n",
       "    {'name': 'Alingsås station',\n",
       "     'id': 'A=1@O=Alingsås station@X=12532491@Y=57926857@U=1@L=740000018@',\n",
       "     'extId': '740000018',\n",
       "     'routeIdx': 17,\n",
       "     'lon': 12.532491,\n",
       "     'lat': 57.926857,\n",
       "     'depTime': '16:24:00',\n",
       "     'depDate': '2025-01-07',\n",
       "     'arrTime': '16:24:00',\n",
       "     'arrDate': '2025-01-07',\n",
       "     'minimumChangeDuration': 'PT7M'},\n",
       "    {'name': 'Göteborg Centralstation',\n",
       "     'id': 'A=1@O=Göteborg Centralstation@X=11973479@Y=57708895@U=1@L=740000002@',\n",
       "     'extId': '740000002',\n",
       "     'routeIdx': 18,\n",
       "     'lon': 11.973479,\n",
       "     'lat': 57.708895,\n",
       "     'arrPrognosisType': 'PROGNOSED',\n",
       "     'arrTime': '17:00:00',\n",
       "     'arrDate': '2025-01-07',\n",
       "     'minimumChangeDuration': 'PT15M'}]},\n",
       "  'JourneyDetail': {'ref': '1|135686|0|1|7012025',\n",
       "   'dayOfOperation': '2025-01-07'},\n",
       "  'id': '1',\n",
       "  'idx': 1,\n",
       "  'name': 'Regional Tåg 173',\n",
       "  'number': '173',\n",
       "  'category': 'JRE',\n",
       "  'type': 'JNY',\n",
       "  'reachable': True,\n",
       "  'waitingState': 'UNDEF',\n",
       "  'direction': 'Göteborg Centralstation',\n",
       "  'directionFlag': '1',\n",
       "  'duration': 'PT2H20M'}]"
      ]
     },
     "execution_count": 43,
     "metadata": {},
     "output_type": "execute_result"
    }
   ],
   "source": [
    "example_trip['LegList']['Leg']"
   ]
  }
 ],
 "metadata": {
  "kernelspec": {
   "display_name": ".venv",
   "language": "python",
   "name": "python3"
  },
  "language_info": {
   "codemirror_mode": {
    "name": "ipython",
    "version": 3
   },
   "file_extension": ".py",
   "mimetype": "text/x-python",
   "name": "python",
   "nbconvert_exporter": "python",
   "pygments_lexer": "ipython3",
   "version": "3.11.9"
  }
 },
 "nbformat": 4,
 "nbformat_minor": 2
}
