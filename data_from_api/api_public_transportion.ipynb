{
 "cells": [
  {
   "cell_type": "code",
   "execution_count": 35,
   "metadata": {},
   "outputs": [
    {
     "data": {
      "text/plain": [
       "dict_keys(['Trip', 'ResultStatus', 'TechnicalMessages', 'serverVersion', 'dialectVersion', 'planRtTs', 'requestId', 'scrB', 'scrF'])"
      ]
     },
     "execution_count": 35,
     "metadata": {},
     "output_type": "execute_result"
    }
   ],
   "source": [
    "from dotenv import load_dotenv\n",
    "import os\n",
    "import requests\n",
    "\n",
    "load_dotenv()\n",
    "\n",
    "API_KEY = os.getenv(\"API_KEY\")\n",
    "URL = f\"https://api.resrobot.se/v2.1/trip?format=json&originId=740000001&destId=740000003&passlist=true&showPassingPoints=true&accessId={API_KEY}\"\n",
    "response = requests.get(URL)\n",
    "result= response.json()\n",
    "result.keys() \n"
   ]
  },
  {
   "cell_type": "code",
   "execution_count": 36,
   "metadata": {},
   "outputs": [
    {
     "data": {
      "text/plain": [
       "5"
      ]
     },
     "execution_count": 36,
     "metadata": {},
     "output_type": "execute_result"
    }
   ],
   "source": [
    "len(result[\"Trip\"])"
   ]
  },
  {
   "cell_type": "code",
   "execution_count": 37,
   "metadata": {},
   "outputs": [
    {
     "data": {
      "text/plain": [
       "dict_keys(['Origin', 'Destination', 'ServiceDays', 'LegList', 'calculation', 'TripStatus', 'idx', 'tripId', 'ctxRecon', 'duration', 'rtDuration', 'checksum'])"
      ]
     },
     "execution_count": 37,
     "metadata": {},
     "output_type": "execute_result"
    }
   ],
   "source": [
    "result[\"Trip\"][0].keys()"
   ]
  },
  {
   "cell_type": "code",
   "execution_count": 38,
   "metadata": {},
   "outputs": [
    {
     "data": {
      "text/plain": [
       "'Stockholm Centralstation'"
      ]
     },
     "execution_count": 38,
     "metadata": {},
     "output_type": "execute_result"
    }
   ],
   "source": [
    "result[\"Trip\"][0][\"LegList\"][\"Leg\"][0][\"Origin\"][\"name\"]\n"
   ]
  },
  {
   "cell_type": "code",
   "execution_count": 39,
   "metadata": {},
   "outputs": [
    {
     "data": {
      "text/plain": [
       "'Malmö Centralstation'"
      ]
     },
     "execution_count": 39,
     "metadata": {},
     "output_type": "execute_result"
    }
   ],
   "source": [
    "result[\"Trip\"][0][\"LegList\"][\"Leg\"][0][\"Destination\"][\"name\"]   "
   ]
  },
  {
   "cell_type": "code",
   "execution_count": 40,
   "metadata": {},
   "outputs": [
    {
     "data": {
      "text/plain": [
       "dict_keys(['Trip', 'ResultStatus', 'TechnicalMessages', 'serverVersion', 'dialectVersion', 'planRtTs', 'requestId', 'scrB', 'scrF'])"
      ]
     },
     "execution_count": 40,
     "metadata": {},
     "output_type": "execute_result"
    }
   ],
   "source": [
    "def get_trips(origin_id=740000001, destination_id=740098001):\n",
    "    \"\"\"origing_id and destination_id can be found from Stop lookup API\"\"\"\n",
    "    url = f\"https://api.resrobot.se/v2.1/trip?format=json&originId={origin_id}&destId={destination_id}&passlist=true&showPassingPoints=true&accessId={API_KEY}\"\n",
    "\n",
    "    try:\n",
    "        response = requests.get(url)\n",
    "        response.raise_for_status()\n",
    "\n",
    "        return response.json()\n",
    "    except requests.exceptions.RequestException as err:\n",
    "        print(f\"Network or HTTP error: {err}\")\n",
    "\n",
    "\n",
    "result = get_trips()\n",
    "result.keys()"
   ]
  },
  {
   "cell_type": "code",
   "execution_count": 41,
   "metadata": {},
   "outputs": [
    {
     "data": {
      "text/plain": [
       "dict_keys(['Origin', 'Destination', 'ServiceDays', 'LegList', 'calculation', 'TripStatus', 'idx', 'tripId', 'ctxRecon', 'duration', 'rtDuration', 'checksum'])"
      ]
     },
     "execution_count": 41,
     "metadata": {},
     "output_type": "execute_result"
    }
   ],
   "source": [
    "# checks first trip keys\n",
    "example_trip = result[\"Trip\"][0]\n",
    "example_trip.keys()"
   ]
  },
  {
   "cell_type": "code",
   "execution_count": 42,
   "metadata": {},
   "outputs": [
    {
     "data": {
      "text/plain": [
       "{'name': 'Stockholm Centralstation',\n",
       " 'type': 'ST',\n",
       " 'id': 'A=1@O=Stockholm Centralstation@X=18058151@Y=59330136@U=1@L=740000001@',\n",
       " 'extId': '740000001',\n",
       " 'lon': 18.058151,\n",
       " 'lat': 59.330136,\n",
       " 'routeIdx': 0,\n",
       " 'prognosisType': 'PROGNOSED',\n",
       " 'time': '14:28:00',\n",
       " 'date': '2025-01-07',\n",
       " 'minimumChangeDuration': 'PT20M'}"
      ]
     },
     "execution_count": 42,
     "metadata": {},
     "output_type": "execute_result"
    }
   ],
   "source": [
    "example_trip['Origin']"
   ]
  },
  {
   "cell_type": "code",
   "execution_count": 43,
   "metadata": {},
   "outputs": [
    {
     "data": {
      "text/plain": [
       "{'name': 'Göteborg Centralstation',\n",
       " 'type': 'ST',\n",
       " 'id': 'A=1@O=Göteborg Centralstation@X=11973479@Y=57708895@U=1@L=740000002@',\n",
       " 'extId': '740000002',\n",
       " 'lon': 11.973479,\n",
       " 'lat': 57.708895,\n",
       " 'routeIdx': 5,\n",
       " 'prognosisType': 'PROGNOSED',\n",
       " 'time': '18:00:00',\n",
       " 'date': '2025-01-07',\n",
       " 'minimumChangeDuration': 'PT15M'}"
      ]
     },
     "execution_count": 43,
     "metadata": {},
     "output_type": "execute_result"
    }
   ],
   "source": [
    "example_trip['Destination']"
   ]
  },
  {
   "cell_type": "code",
   "execution_count": 44,
   "metadata": {},
   "outputs": [
    {
     "data": {
      "text/plain": [
       "dict_keys(['Origin', 'Destination', 'Notes', 'JourneyDetailRef', 'JourneyStatus', 'Product', 'Stops', 'JourneyDetail', 'id', 'idx', 'name', 'number', 'category', 'type', 'reachable', 'waitingState', 'direction', 'directionFlag', 'duration'])"
      ]
     },
     "execution_count": 44,
     "metadata": {},
     "output_type": "execute_result"
    }
   ],
   "source": [
    "example_trip['LegList']['Leg'][0].keys()"
   ]
  },
  {
   "cell_type": "code",
   "execution_count": 45,
   "metadata": {},
   "outputs": [
    {
     "data": {
      "text/plain": [
       "[{'name': 'Stockholm Centralstation',\n",
       "  'id': 'A=1@O=Stockholm Centralstation@X=18058151@Y=59330136@U=1@L=740000001@',\n",
       "  'extId': '740000001',\n",
       "  'routeIdx': 0,\n",
       "  'lon': 18.058151,\n",
       "  'lat': 59.330136,\n",
       "  'depPrognosisType': 'PROGNOSED',\n",
       "  'depTime': '14:28:00',\n",
       "  'depDate': '2025-01-07',\n",
       "  'depDir': 'Göteborg Centralstation',\n",
       "  'minimumChangeDuration': 'PT20M'},\n",
       " {'Notes': {'Note': [{'value': 'Stannar endast för påstigande',\n",
       "     'key': 'text.realtime.stop.exit.disabled',\n",
       "     'type': 'R',\n",
       "     'txtN': 'Stannar endast för påstigande'}]},\n",
       "  'name': 'Flemingsberg station (Huddinge kn)',\n",
       "  'id': 'A=1@O=Flemingsberg station (Huddinge kn)@X=17945678@Y=59217959@U=1@L=740000031@',\n",
       "  'extId': '740000031',\n",
       "  'routeIdx': 1,\n",
       "  'lon': 17.945678,\n",
       "  'lat': 59.217959,\n",
       "  'depTime': '14:38:00',\n",
       "  'depDate': '2025-01-07',\n",
       "  'alighting': False,\n",
       "  'minimumChangeDuration': 'PT10M'},\n",
       " {'name': 'Skövde Centralstation',\n",
       "  'id': 'A=1@O=Skövde Centralstation@X=13853195@Y=58390898@U=1@L=740000008@',\n",
       "  'extId': '740000008',\n",
       "  'routeIdx': 2,\n",
       "  'lon': 13.853195,\n",
       "  'lat': 58.390898,\n",
       "  'depTime': '16:39:00',\n",
       "  'depDate': '2025-01-07',\n",
       "  'arrTime': '16:39:00',\n",
       "  'arrDate': '2025-01-07',\n",
       "  'minimumChangeDuration': 'PT10M'},\n",
       " {'name': 'Herrljunga station',\n",
       "  'id': 'A=1@O=Herrljunga station@X=13021279@Y=58079188@U=1@L=740000040@',\n",
       "  'extId': '740000040',\n",
       "  'routeIdx': 3,\n",
       "  'lon': 13.021279,\n",
       "  'lat': 58.079188,\n",
       "  'depTime': '17:10:00',\n",
       "  'depDate': '2025-01-07',\n",
       "  'arrTime': '17:10:00',\n",
       "  'arrDate': '2025-01-07',\n",
       "  'minimumChangeDuration': 'PT8M'},\n",
       " {'Notes': {'Note': [{'value': 'Stannar endast för avstigande',\n",
       "     'key': 'text.realtime.stop.entry.disabled',\n",
       "     'type': 'R',\n",
       "     'txtN': 'Stannar endast för avstigande'}]},\n",
       "  'name': 'Alingsås station',\n",
       "  'id': 'A=1@O=Alingsås station@X=12532491@Y=57926857@U=1@L=740000018@',\n",
       "  'extId': '740000018',\n",
       "  'routeIdx': 4,\n",
       "  'lon': 12.532491,\n",
       "  'lat': 57.926857,\n",
       "  'arrTime': '17:27:00',\n",
       "  'arrDate': '2025-01-07',\n",
       "  'boarding': False,\n",
       "  'minimumChangeDuration': 'PT7M'},\n",
       " {'name': 'Göteborg Centralstation',\n",
       "  'id': 'A=1@O=Göteborg Centralstation@X=11973479@Y=57708895@U=1@L=740000002@',\n",
       "  'extId': '740000002',\n",
       "  'routeIdx': 5,\n",
       "  'lon': 11.973479,\n",
       "  'lat': 57.708895,\n",
       "  'arrPrognosisType': 'PROGNOSED',\n",
       "  'arrTime': '18:00:00',\n",
       "  'arrDate': '2025-01-07',\n",
       "  'minimumChangeDuration': 'PT15M'}]"
      ]
     },
     "execution_count": 45,
     "metadata": {},
     "output_type": "execute_result"
    }
   ],
   "source": [
    "example_stops = example_trip[\"LegList\"][\"Leg\"][0][\"Stops\"][\"Stop\"]\n",
    "example_stops"
   ]
  },
  {
   "cell_type": "code",
   "execution_count": 46,
   "metadata": {},
   "outputs": [
    {
     "name": "stdout",
     "output_type": "stream",
     "text": [
      "Stockholm Centralstation\n",
      "Flemingsberg station (Huddinge kn)\n",
      "Skövde Centralstation\n",
      "Herrljunga station\n",
      "Alingsås station\n",
      "Göteborg Centralstation\n"
     ]
    }
   ],
   "source": [
    "for stop in example_stops:\n",
    "    print(stop['name'])\n"
   ]
  },
  {
   "cell_type": "code",
   "execution_count": 47,
   "metadata": {},
   "outputs": [
    {
     "data": {
      "text/plain": [
       "[{'Stockholm Centralstation': None},\n",
       " {'Flemingsberg station (Huddinge kn)': None},\n",
       " {'Skövde Centralstation': '16:39:00'},\n",
       " {'Herrljunga station': '17:10:00'},\n",
       " {'Alingsås station': '17:27:00'},\n",
       " {'Göteborg Centralstation': '18:00:00'}]"
      ]
     },
     "execution_count": 47,
     "metadata": {},
     "output_type": "execute_result"
    }
   ],
   "source": [
    "[{stop.get(\"name\"): stop.get(\"arrTime\")} for stop in example_stops]"
   ]
  },
  {
   "cell_type": "markdown",
   "metadata": {},
   "source": [
    "# Stop lookup API to find id"
   ]
  },
  {
   "cell_type": "code",
   "execution_count": 48,
   "metadata": {},
   "outputs": [
    {
     "data": {
      "text/plain": [
       "dict_keys(['stopLocationOrCoordLocation', 'TechnicalMessages', 'serverVersion', 'dialectVersion', 'requestId'])"
      ]
     },
     "execution_count": 48,
     "metadata": {},
     "output_type": "execute_result"
    }
   ],
   "source": [
    "location = \"göteborg\"\n",
    "url = f\"https://api.resrobot.se/v2.1/location.name?input={location}&format=json&accessId={API_KEY}\"\n",
    "response = requests.get(url)\n",
    "result = response.json()\n",
    "result.keys()"
   ]
  },
  {
   "cell_type": "code",
   "execution_count": 49,
   "metadata": {},
   "outputs": [
    {
     "data": {
      "text/plain": [
       "10"
      ]
     },
     "execution_count": 49,
     "metadata": {},
     "output_type": "execute_result"
    }
   ],
   "source": [
    "stop_locations = result[\"stopLocationOrCoordLocation\"]\n",
    "len(stop_locations)"
   ]
  },
  {
   "cell_type": "code",
   "execution_count": 50,
   "metadata": {},
   "outputs": [
    {
     "data": {
      "text/plain": [
       "{'StopLocation': {'productAtStop': [{'icon': {'res': 'prod_gen'}, 'cls': '2'},\n",
       "   {'icon': {'res': 'prod_gen'}, 'cls': '4'},\n",
       "   {'icon': {'res': 'prod_gen'}, 'cls': '8'},\n",
       "   {'icon': {'res': 'prod_gen'}, 'cls': '16'},\n",
       "   {'icon': {'res': 'prod_gen'}, 'cls': '64'},\n",
       "   {'icon': {'res': 'prod_gen'}, 'cls': '128'},\n",
       "   {'icon': {'res': 'prod_gen'}, 'cls': '256'}],\n",
       "  'timezoneOffset': 60,\n",
       "  'id': 'A=1@O=GÖTEBORG@X=11973479@Y=57708895@U=1@L=740098001@B=1@p=1736224604@',\n",
       "  'extId': '740098001',\n",
       "  'name': 'GÖTEBORG',\n",
       "  'lon': 11.973479,\n",
       "  'lat': 57.708895,\n",
       "  'weight': 15424,\n",
       "  'products': 222,\n",
       "  'meta': True,\n",
       "  'minimumChangeDuration': 'PT26M'}}"
      ]
     },
     "execution_count": 50,
     "metadata": {},
     "output_type": "execute_result"
    }
   ],
   "source": [
    "stop_locations[0]"
   ]
  },
  {
   "cell_type": "code",
   "execution_count": 51,
   "metadata": {},
   "outputs": [
    {
     "data": {
      "text/plain": [
       "dict_keys(['productAtStop', 'timezoneOffset', 'id', 'extId', 'name', 'lon', 'lat', 'weight', 'products', 'meta', 'minimumChangeDuration'])"
      ]
     },
     "execution_count": 51,
     "metadata": {},
     "output_type": "execute_result"
    }
   ],
   "source": [
    "stop_locations[0][\"StopLocation\"].keys()"
   ]
  },
  {
   "cell_type": "code",
   "execution_count": 52,
   "metadata": {},
   "outputs": [
    {
     "data": {
      "text/plain": [
       "('GÖTEBORG', '740098001')"
      ]
     },
     "execution_count": 52,
     "metadata": {},
     "output_type": "execute_result"
    }
   ],
   "source": [
    "stop_locations[0][\"StopLocation\"][\"name\"], stop_locations[0][\"StopLocation\"][\"extId\"]"
   ]
  },
  {
   "cell_type": "code",
   "execution_count": 53,
   "metadata": {},
   "outputs": [
    {
     "name": "stdout",
     "output_type": "stream",
     "text": [
      "Stops in Göteborg\n",
      "GÖTEBORG 740098001\n",
      "Göteborg Centralstation 740000002\n",
      "Göteborg Sävenäs lokstation 740016365\n",
      "GÖTEBORG GAMLESTADEN 740098526\n",
      "Göteborg Korsvägen 740015578\n",
      "Göteborg Kungsportsplatsen 740016358\n",
      "Göteborg Stenpiren 740072430\n",
      "Göteborg Eketrägatan 740025624\n",
      "Göteborg Vårväderstorget 740025707\n",
      "Göteborg Axel Dahlströms torg 740025608\n"
     ]
    }
   ],
   "source": [
    "print(\"Stops in Göteborg\")\n",
    "for stop in stop_locations:\n",
    "    print(stop[\"StopLocation\"][\"name\"], stop[\"StopLocation\"][\"extId\"])"
   ]
  },
  {
   "cell_type": "code",
   "execution_count": 54,
   "metadata": {},
   "outputs": [
    {
     "name": "stdout",
     "output_type": "stream",
     "text": [
      "Stop                                               extId\n",
      "GÖTEBORG                                           740098001\n",
      "Göteborg Centralstation                            740000002\n",
      "Göteborg Sävenäs lokstation                        740016365\n",
      "GÖTEBORG GAMLESTADEN                               740098526\n",
      "Göteborg Korsvägen                                 740015578\n",
      "Göteborg Kungsportsplatsen                         740016358\n",
      "Göteborg Stenpiren                                 740072430\n",
      "Göteborg Eketrägatan                               740025624\n",
      "Göteborg Vårväderstorget                           740025707\n",
      "Göteborg Axel Dahlströms torg                      740025608\n"
     ]
    }
   ],
   "source": [
    "# :<50  -> left align in a 50-character wide field\n",
    "print(f\"{'Stop':<50} {'extId'}\")\n",
    "for stop_location in stop_locations:\n",
    "    stop = stop_location[\"StopLocation\"]\n",
    "    print(f\"{stop.get('name'):<50} {stop.get('extId')}\")"
   ]
  },
  {
   "cell_type": "code",
   "execution_count": 55,
   "metadata": {},
   "outputs": [
    {
     "name": "stdout",
     "output_type": "stream",
     "text": [
      "Name                                               extId\n",
      "Malm (Gullspång kn)                                740062061\n",
      "Malmö Centralstation                               740000003\n",
      "Malmö Triangeln station                            740001587\n",
      "Malmö Hyllie station                               740001586\n",
      "Malmö Svågertorp station                           740001546\n",
      "Malmö Persborg station                             740001486\n",
      "MALMÖ                                              740098548\n",
      "Malmö Rosengård station                            740001621\n",
      "Malmö Östervärn station                            740001483\n",
      "Malmö Fosieby station                              740001553\n"
     ]
    }
   ],
   "source": [
    "def access_id_from_location(location):\n",
    "    url = f\"https://api.resrobot.se/v2.1/location.name?input={location}&format=json&accessId={API_KEY}\"\n",
    "\n",
    "    try:\n",
    "        response = requests.get(url)\n",
    "        result = response.json()\n",
    "\n",
    "        print(f\"{'Name':<50} extId\")\n",
    "\n",
    "        for stop in result.get(\"stopLocationOrCoordLocation\"):\n",
    "            stop_data = next(iter(stop.values()))\n",
    "\n",
    "            # returns None if extId doesn't exist\n",
    "            if stop_data.get(\"extId\"):\n",
    "                print(f\"{stop_data['name']:<50} {stop_data['extId']}\")\n",
    "\n",
    "    except requests.exceptions.RequestException as err:\n",
    "        print(f\"Network or HTTP error: {err}\")\n",
    "\n",
    "access_id_from_location(\"malm\")"
   ]
  },
  {
   "cell_type": "code",
   "execution_count": 56,
   "metadata": {},
   "outputs": [
    {
     "name": "stdout",
     "output_type": "stream",
     "text": [
      "Name                                               extId\n",
      "Onsala kyrka (Kungsbacka kn)                       740000092\n",
      "Onsala vårdcentral (Kungsbacka kn)                 740061484\n"
     ]
    }
   ],
   "source": [
    "access_id_from_location(\"onsala\")"
   ]
  },
  {
   "cell_type": "markdown",
   "metadata": {},
   "source": [
    "## Time tables\n",
    "- [ResRobot Timetables](https://www.trafiklab.se/api/trafiklab-apis/resrobot-v21/timetables/)\n",
    "\n",
    "Here I use pandas to read the json data, I'll leave it to you to make it into a function and find out relevant information"
   ]
  },
  {
   "cell_type": "code",
   "execution_count": 57,
   "metadata": {},
   "outputs": [
    {
     "data": {
      "text/plain": [
       "dict_keys(['Departure', 'TechnicalMessages', 'serverVersion', 'dialectVersion', 'planRtTs', 'requestId'])"
      ]
     },
     "execution_count": 57,
     "metadata": {},
     "output_type": "execute_result"
    }
   ],
   "source": [
    "# korsvägen\n",
    "stop_id=740015578\n",
    "url = f\"https://api.resrobot.se/v2.1/departureBoard?id={stop_id}&format=json&accessId={API_KEY}\"\n",
    "\n",
    "response = requests.get(url)\n",
    "results = response.json()\n",
    "results.keys()"
   ]
  },
  {
   "cell_type": "code",
   "execution_count": 58,
   "metadata": {},
   "outputs": [
    {
     "data": {
      "text/html": [
       "<div>\n",
       "<style scoped>\n",
       "    .dataframe tbody tr th:only-of-type {\n",
       "        vertical-align: middle;\n",
       "    }\n",
       "\n",
       "    .dataframe tbody tr th {\n",
       "        vertical-align: top;\n",
       "    }\n",
       "\n",
       "    .dataframe thead th {\n",
       "        text-align: right;\n",
       "    }\n",
       "</style>\n",
       "<table border=\"1\" class=\"dataframe\">\n",
       "  <thead>\n",
       "    <tr style=\"text-align: right;\">\n",
       "      <th></th>\n",
       "      <th>JourneyDetailRef</th>\n",
       "      <th>JourneyStatus</th>\n",
       "      <th>ProductAtStop</th>\n",
       "      <th>Product</th>\n",
       "      <th>Notes</th>\n",
       "      <th>name</th>\n",
       "      <th>type</th>\n",
       "      <th>stop</th>\n",
       "      <th>stopid</th>\n",
       "      <th>stopExtId</th>\n",
       "      <th>lon</th>\n",
       "      <th>lat</th>\n",
       "      <th>time</th>\n",
       "      <th>date</th>\n",
       "      <th>reachable</th>\n",
       "      <th>direction</th>\n",
       "      <th>directionFlag</th>\n",
       "    </tr>\n",
       "  </thead>\n",
       "  <tbody>\n",
       "    <tr>\n",
       "      <th>0</th>\n",
       "      <td>{'ref': '1|64379|1|1|7012025'}</td>\n",
       "      <td>P</td>\n",
       "      <td>{'icon': {'res': 'prod_gen'}, 'operatorInfo': ...</td>\n",
       "      <td>[{'icon': {'res': 'prod_gen'}, 'operatorInfo':...</td>\n",
       "      <td>{'Note': [{'value': 'Lag 2015:953 tillämpas', ...</td>\n",
       "      <td>Länstrafik - Spårväg 8</td>\n",
       "      <td>ST</td>\n",
       "      <td>Göteborg Korsvägen</td>\n",
       "      <td>A=1@O=Göteborg Korsvägen@X=11986918@Y=57696742...</td>\n",
       "      <td>740015578</td>\n",
       "      <td>11.986918</td>\n",
       "      <td>57.696742</td>\n",
       "      <td>14:26:00</td>\n",
       "      <td>2025-01-07</td>\n",
       "      <td>True</td>\n",
       "      <td>Angered centrum (Göteborg kn)</td>\n",
       "      <td>1</td>\n",
       "    </tr>\n",
       "    <tr>\n",
       "      <th>1</th>\n",
       "      <td>{'ref': '1|84853|28|1|7012025'}</td>\n",
       "      <td>P</td>\n",
       "      <td>{'icon': {'res': 'prod_gen'}, 'operatorInfo': ...</td>\n",
       "      <td>[{'icon': {'res': 'prod_gen'}, 'operatorInfo':...</td>\n",
       "      <td>{'Note': [{'value': 'Lag 2015:953 tillämpas', ...</td>\n",
       "      <td>Länstrafik - Buss 63</td>\n",
       "      <td>ST</td>\n",
       "      <td>Göteborg Korsvägen</td>\n",
       "      <td>A=1@O=Göteborg Korsvägen@X=11986918@Y=57696742...</td>\n",
       "      <td>740015578</td>\n",
       "      <td>11.986918</td>\n",
       "      <td>57.696742</td>\n",
       "      <td>14:26:00</td>\n",
       "      <td>2025-01-07</td>\n",
       "      <td>True</td>\n",
       "      <td>Göteborg Heden</td>\n",
       "      <td>2</td>\n",
       "    </tr>\n",
       "    <tr>\n",
       "      <th>2</th>\n",
       "      <td>{'ref': '1|154465|1|1|7012025'}</td>\n",
       "      <td>P</td>\n",
       "      <td>{'icon': {'res': 'prod_gen'}, 'operatorInfo': ...</td>\n",
       "      <td>[{'icon': {'res': 'prod_gen'}, 'operatorInfo':...</td>\n",
       "      <td>{'Note': [{'value': 'Lag 2015:953 tillämpas', ...</td>\n",
       "      <td>Länstrafik - Buss RÖD</td>\n",
       "      <td>ST</td>\n",
       "      <td>Göteborg Korsvägen</td>\n",
       "      <td>A=1@O=Göteborg Korsvägen@X=11986918@Y=57696742...</td>\n",
       "      <td>740015578</td>\n",
       "      <td>11.986918</td>\n",
       "      <td>57.696742</td>\n",
       "      <td>14:26:00</td>\n",
       "      <td>2025-01-07</td>\n",
       "      <td>True</td>\n",
       "      <td>Lilla Varholmen (Göteborg kn)</td>\n",
       "      <td>1</td>\n",
       "    </tr>\n",
       "    <tr>\n",
       "      <th>3</th>\n",
       "      <td>{'ref': '1|169136|0|1|7012025'}</td>\n",
       "      <td>P</td>\n",
       "      <td>{'icon': {'res': 'prod_gen'}, 'operatorInfo': ...</td>\n",
       "      <td>[{'icon': {'res': 'prod_gen'}, 'operatorInfo':...</td>\n",
       "      <td>{'Note': [{'value': 'Lag 2015:953 tillämpas', ...</td>\n",
       "      <td>Länstrafik - Spårväg 5</td>\n",
       "      <td>ST</td>\n",
       "      <td>Göteborg Korsvägen</td>\n",
       "      <td>A=1@O=Göteborg Korsvägen@X=11986918@Y=57696742...</td>\n",
       "      <td>740015578</td>\n",
       "      <td>11.986918</td>\n",
       "      <td>57.696742</td>\n",
       "      <td>14:26:00</td>\n",
       "      <td>2025-01-07</td>\n",
       "      <td>True</td>\n",
       "      <td>Göteborg Varmfrontsgatan</td>\n",
       "      <td>2</td>\n",
       "    </tr>\n",
       "    <tr>\n",
       "      <th>4</th>\n",
       "      <td>{'ref': '1|30083|3|1|7012025'}</td>\n",
       "      <td>P</td>\n",
       "      <td>{'icon': {'res': 'prod_gen'}, 'operatorInfo': ...</td>\n",
       "      <td>[{'icon': {'res': 'prod_gen'}, 'operatorInfo':...</td>\n",
       "      <td>{'Note': [{'value': 'Lag 2015:953 tillämpas', ...</td>\n",
       "      <td>Länstrafik - Spårväg 4</td>\n",
       "      <td>ST</td>\n",
       "      <td>Göteborg Korsvägen</td>\n",
       "      <td>A=1@O=Göteborg Korsvägen@X=11986918@Y=57696742...</td>\n",
       "      <td>740015578</td>\n",
       "      <td>11.986918</td>\n",
       "      <td>57.696742</td>\n",
       "      <td>14:27:00</td>\n",
       "      <td>2025-01-07</td>\n",
       "      <td>True</td>\n",
       "      <td>Angered centrum (Göteborg kn)</td>\n",
       "      <td>1</td>\n",
       "    </tr>\n",
       "  </tbody>\n",
       "</table>\n",
       "</div>"
      ],
      "text/plain": [
       "                  JourneyDetailRef JourneyStatus  \\\n",
       "0   {'ref': '1|64379|1|1|7012025'}             P   \n",
       "1  {'ref': '1|84853|28|1|7012025'}             P   \n",
       "2  {'ref': '1|154465|1|1|7012025'}             P   \n",
       "3  {'ref': '1|169136|0|1|7012025'}             P   \n",
       "4   {'ref': '1|30083|3|1|7012025'}             P   \n",
       "\n",
       "                                       ProductAtStop  \\\n",
       "0  {'icon': {'res': 'prod_gen'}, 'operatorInfo': ...   \n",
       "1  {'icon': {'res': 'prod_gen'}, 'operatorInfo': ...   \n",
       "2  {'icon': {'res': 'prod_gen'}, 'operatorInfo': ...   \n",
       "3  {'icon': {'res': 'prod_gen'}, 'operatorInfo': ...   \n",
       "4  {'icon': {'res': 'prod_gen'}, 'operatorInfo': ...   \n",
       "\n",
       "                                             Product  \\\n",
       "0  [{'icon': {'res': 'prod_gen'}, 'operatorInfo':...   \n",
       "1  [{'icon': {'res': 'prod_gen'}, 'operatorInfo':...   \n",
       "2  [{'icon': {'res': 'prod_gen'}, 'operatorInfo':...   \n",
       "3  [{'icon': {'res': 'prod_gen'}, 'operatorInfo':...   \n",
       "4  [{'icon': {'res': 'prod_gen'}, 'operatorInfo':...   \n",
       "\n",
       "                                               Notes                    name  \\\n",
       "0  {'Note': [{'value': 'Lag 2015:953 tillämpas', ...  Länstrafik - Spårväg 8   \n",
       "1  {'Note': [{'value': 'Lag 2015:953 tillämpas', ...    Länstrafik - Buss 63   \n",
       "2  {'Note': [{'value': 'Lag 2015:953 tillämpas', ...   Länstrafik - Buss RÖD   \n",
       "3  {'Note': [{'value': 'Lag 2015:953 tillämpas', ...  Länstrafik - Spårväg 5   \n",
       "4  {'Note': [{'value': 'Lag 2015:953 tillämpas', ...  Länstrafik - Spårväg 4   \n",
       "\n",
       "  type                stop                                             stopid  \\\n",
       "0   ST  Göteborg Korsvägen  A=1@O=Göteborg Korsvägen@X=11986918@Y=57696742...   \n",
       "1   ST  Göteborg Korsvägen  A=1@O=Göteborg Korsvägen@X=11986918@Y=57696742...   \n",
       "2   ST  Göteborg Korsvägen  A=1@O=Göteborg Korsvägen@X=11986918@Y=57696742...   \n",
       "3   ST  Göteborg Korsvägen  A=1@O=Göteborg Korsvägen@X=11986918@Y=57696742...   \n",
       "4   ST  Göteborg Korsvägen  A=1@O=Göteborg Korsvägen@X=11986918@Y=57696742...   \n",
       "\n",
       "   stopExtId        lon        lat      time        date  reachable  \\\n",
       "0  740015578  11.986918  57.696742  14:26:00  2025-01-07       True   \n",
       "1  740015578  11.986918  57.696742  14:26:00  2025-01-07       True   \n",
       "2  740015578  11.986918  57.696742  14:26:00  2025-01-07       True   \n",
       "3  740015578  11.986918  57.696742  14:26:00  2025-01-07       True   \n",
       "4  740015578  11.986918  57.696742  14:27:00  2025-01-07       True   \n",
       "\n",
       "                       direction directionFlag  \n",
       "0  Angered centrum (Göteborg kn)             1  \n",
       "1                 Göteborg Heden             2  \n",
       "2  Lilla Varholmen (Göteborg kn)             1  \n",
       "3       Göteborg Varmfrontsgatan             2  \n",
       "4  Angered centrum (Göteborg kn)             1  "
      ]
     },
     "execution_count": 58,
     "metadata": {},
     "output_type": "execute_result"
    }
   ],
   "source": [
    "import pandas as pd \n",
    "\n",
    "df_timetable = pd.DataFrame(results[\"Departure\"])\n",
    "df_timetable.head()"
   ]
  },
  {
   "cell_type": "code",
   "execution_count": 59,
   "metadata": {},
   "outputs": [
    {
     "data": {
      "text/plain": [
       "Index(['JourneyDetailRef', 'JourneyStatus', 'ProductAtStop', 'Product',\n",
       "       'Notes', 'name', 'type', 'stop', 'stopid', 'stopExtId', 'lon', 'lat',\n",
       "       'time', 'date', 'reachable', 'direction', 'directionFlag'],\n",
       "      dtype='object')"
      ]
     },
     "execution_count": 59,
     "metadata": {},
     "output_type": "execute_result"
    }
   ],
   "source": [
    "df_timetable.columns"
   ]
  },
  {
   "cell_type": "code",
   "execution_count": 60,
   "metadata": {},
   "outputs": [
    {
     "data": {
      "text/html": [
       "<div>\n",
       "<style scoped>\n",
       "    .dataframe tbody tr th:only-of-type {\n",
       "        vertical-align: middle;\n",
       "    }\n",
       "\n",
       "    .dataframe tbody tr th {\n",
       "        vertical-align: top;\n",
       "    }\n",
       "\n",
       "    .dataframe thead th {\n",
       "        text-align: right;\n",
       "    }\n",
       "</style>\n",
       "<table border=\"1\" class=\"dataframe\">\n",
       "  <thead>\n",
       "    <tr style=\"text-align: right;\">\n",
       "      <th></th>\n",
       "      <th>name</th>\n",
       "      <th>direction</th>\n",
       "      <th>time</th>\n",
       "    </tr>\n",
       "  </thead>\n",
       "  <tbody>\n",
       "    <tr>\n",
       "      <th>0</th>\n",
       "      <td>Länstrafik - Spårväg 8</td>\n",
       "      <td>Angered centrum (Göteborg kn)</td>\n",
       "      <td>14:26:00</td>\n",
       "    </tr>\n",
       "    <tr>\n",
       "      <th>1</th>\n",
       "      <td>Länstrafik - Buss 63</td>\n",
       "      <td>Göteborg Heden</td>\n",
       "      <td>14:26:00</td>\n",
       "    </tr>\n",
       "    <tr>\n",
       "      <th>2</th>\n",
       "      <td>Länstrafik - Buss RÖD</td>\n",
       "      <td>Lilla Varholmen (Göteborg kn)</td>\n",
       "      <td>14:26:00</td>\n",
       "    </tr>\n",
       "    <tr>\n",
       "      <th>3</th>\n",
       "      <td>Länstrafik - Spårväg 5</td>\n",
       "      <td>Göteborg Varmfrontsgatan</td>\n",
       "      <td>14:26:00</td>\n",
       "    </tr>\n",
       "    <tr>\n",
       "      <th>4</th>\n",
       "      <td>Länstrafik - Spårväg 4</td>\n",
       "      <td>Angered centrum (Göteborg kn)</td>\n",
       "      <td>14:27:00</td>\n",
       "    </tr>\n",
       "    <tr>\n",
       "      <th>...</th>\n",
       "      <td>...</td>\n",
       "      <td>...</td>\n",
       "      <td>...</td>\n",
       "    </tr>\n",
       "    <tr>\n",
       "      <th>199</th>\n",
       "      <td>Länstrafik - Buss 18</td>\n",
       "      <td>Bäckebol Norra (Göteborg kn)</td>\n",
       "      <td>15:25:00</td>\n",
       "    </tr>\n",
       "    <tr>\n",
       "      <th>200</th>\n",
       "      <td>Länstrafik - Buss RÖD</td>\n",
       "      <td>Lilla Varholmen (Göteborg kn)</td>\n",
       "      <td>15:25:00</td>\n",
       "    </tr>\n",
       "    <tr>\n",
       "      <th>201</th>\n",
       "      <td>Länstrafik - Buss RÖD</td>\n",
       "      <td>Önneröd (Härryda kn)</td>\n",
       "      <td>15:25:00</td>\n",
       "    </tr>\n",
       "    <tr>\n",
       "      <th>202</th>\n",
       "      <td>Länstrafik - Spårväg 8</td>\n",
       "      <td>Angered centrum (Göteborg kn)</td>\n",
       "      <td>15:26:00</td>\n",
       "    </tr>\n",
       "    <tr>\n",
       "      <th>203</th>\n",
       "      <td>Länstrafik - Spårväg 5</td>\n",
       "      <td>Göteborg Varmfrontsgatan</td>\n",
       "      <td>15:26:00</td>\n",
       "    </tr>\n",
       "  </tbody>\n",
       "</table>\n",
       "<p>204 rows × 3 columns</p>\n",
       "</div>"
      ],
      "text/plain": [
       "                       name                      direction      time\n",
       "0    Länstrafik - Spårväg 8  Angered centrum (Göteborg kn)  14:26:00\n",
       "1      Länstrafik - Buss 63                 Göteborg Heden  14:26:00\n",
       "2     Länstrafik - Buss RÖD  Lilla Varholmen (Göteborg kn)  14:26:00\n",
       "3    Länstrafik - Spårväg 5       Göteborg Varmfrontsgatan  14:26:00\n",
       "4    Länstrafik - Spårväg 4  Angered centrum (Göteborg kn)  14:27:00\n",
       "..                      ...                            ...       ...\n",
       "199    Länstrafik - Buss 18   Bäckebol Norra (Göteborg kn)  15:25:00\n",
       "200   Länstrafik - Buss RÖD  Lilla Varholmen (Göteborg kn)  15:25:00\n",
       "201   Länstrafik - Buss RÖD           Önneröd (Härryda kn)  15:25:00\n",
       "202  Länstrafik - Spårväg 8  Angered centrum (Göteborg kn)  15:26:00\n",
       "203  Länstrafik - Spårväg 5       Göteborg Varmfrontsgatan  15:26:00\n",
       "\n",
       "[204 rows x 3 columns]"
      ]
     },
     "execution_count": 60,
     "metadata": {},
     "output_type": "execute_result"
    }
   ],
   "source": [
    "df_timetable[[\"name\", \"direction\", \"time\"]]"
   ]
  },
  {
   "cell_type": "code",
   "execution_count": 61,
   "metadata": {},
   "outputs": [
    {
     "data": {
      "text/html": [
       "<div>\n",
       "<style scoped>\n",
       "    .dataframe tbody tr th:only-of-type {\n",
       "        vertical-align: middle;\n",
       "    }\n",
       "\n",
       "    .dataframe tbody tr th {\n",
       "        vertical-align: top;\n",
       "    }\n",
       "\n",
       "    .dataframe thead th {\n",
       "        text-align: right;\n",
       "    }\n",
       "</style>\n",
       "<table border=\"1\" class=\"dataframe\">\n",
       "  <thead>\n",
       "    <tr style=\"text-align: right;\">\n",
       "      <th></th>\n",
       "      <th>name</th>\n",
       "      <th>stop</th>\n",
       "      <th>lon</th>\n",
       "      <th>lat</th>\n",
       "      <th>direction</th>\n",
       "      <th>date</th>\n",
       "      <th>time</th>\n",
       "    </tr>\n",
       "  </thead>\n",
       "  <tbody>\n",
       "    <tr>\n",
       "      <th>0</th>\n",
       "      <td>Länstrafik - Spårväg 8</td>\n",
       "      <td>Göteborg Korsvägen</td>\n",
       "      <td>11.986918</td>\n",
       "      <td>57.696742</td>\n",
       "      <td>Angered centrum (Göteborg kn)</td>\n",
       "      <td>2025-01-07</td>\n",
       "      <td>14:26:00</td>\n",
       "    </tr>\n",
       "    <tr>\n",
       "      <th>1</th>\n",
       "      <td>Länstrafik - Buss 63</td>\n",
       "      <td>Göteborg Korsvägen</td>\n",
       "      <td>11.986918</td>\n",
       "      <td>57.696742</td>\n",
       "      <td>Göteborg Heden</td>\n",
       "      <td>2025-01-07</td>\n",
       "      <td>14:26:00</td>\n",
       "    </tr>\n",
       "    <tr>\n",
       "      <th>2</th>\n",
       "      <td>Länstrafik - Buss RÖD</td>\n",
       "      <td>Göteborg Korsvägen</td>\n",
       "      <td>11.986918</td>\n",
       "      <td>57.696742</td>\n",
       "      <td>Lilla Varholmen (Göteborg kn)</td>\n",
       "      <td>2025-01-07</td>\n",
       "      <td>14:26:00</td>\n",
       "    </tr>\n",
       "    <tr>\n",
       "      <th>3</th>\n",
       "      <td>Länstrafik - Spårväg 5</td>\n",
       "      <td>Göteborg Korsvägen</td>\n",
       "      <td>11.986918</td>\n",
       "      <td>57.696742</td>\n",
       "      <td>Göteborg Varmfrontsgatan</td>\n",
       "      <td>2025-01-07</td>\n",
       "      <td>14:26:00</td>\n",
       "    </tr>\n",
       "    <tr>\n",
       "      <th>4</th>\n",
       "      <td>Länstrafik - Spårväg 4</td>\n",
       "      <td>Göteborg Korsvägen</td>\n",
       "      <td>11.986918</td>\n",
       "      <td>57.696742</td>\n",
       "      <td>Angered centrum (Göteborg kn)</td>\n",
       "      <td>2025-01-07</td>\n",
       "      <td>14:27:00</td>\n",
       "    </tr>\n",
       "    <tr>\n",
       "      <th>...</th>\n",
       "      <td>...</td>\n",
       "      <td>...</td>\n",
       "      <td>...</td>\n",
       "      <td>...</td>\n",
       "      <td>...</td>\n",
       "      <td>...</td>\n",
       "      <td>...</td>\n",
       "    </tr>\n",
       "    <tr>\n",
       "      <th>199</th>\n",
       "      <td>Länstrafik - Buss 18</td>\n",
       "      <td>Göteborg Korsvägen</td>\n",
       "      <td>11.986918</td>\n",
       "      <td>57.696742</td>\n",
       "      <td>Bäckebol Norra (Göteborg kn)</td>\n",
       "      <td>2025-01-07</td>\n",
       "      <td>15:25:00</td>\n",
       "    </tr>\n",
       "    <tr>\n",
       "      <th>200</th>\n",
       "      <td>Länstrafik - Buss RÖD</td>\n",
       "      <td>Göteborg Korsvägen</td>\n",
       "      <td>11.986918</td>\n",
       "      <td>57.696742</td>\n",
       "      <td>Lilla Varholmen (Göteborg kn)</td>\n",
       "      <td>2025-01-07</td>\n",
       "      <td>15:25:00</td>\n",
       "    </tr>\n",
       "    <tr>\n",
       "      <th>201</th>\n",
       "      <td>Länstrafik - Buss RÖD</td>\n",
       "      <td>Göteborg Korsvägen</td>\n",
       "      <td>11.986918</td>\n",
       "      <td>57.696742</td>\n",
       "      <td>Önneröd (Härryda kn)</td>\n",
       "      <td>2025-01-07</td>\n",
       "      <td>15:25:00</td>\n",
       "    </tr>\n",
       "    <tr>\n",
       "      <th>202</th>\n",
       "      <td>Länstrafik - Spårväg 8</td>\n",
       "      <td>Göteborg Korsvägen</td>\n",
       "      <td>11.986918</td>\n",
       "      <td>57.696742</td>\n",
       "      <td>Angered centrum (Göteborg kn)</td>\n",
       "      <td>2025-01-07</td>\n",
       "      <td>15:26:00</td>\n",
       "    </tr>\n",
       "    <tr>\n",
       "      <th>203</th>\n",
       "      <td>Länstrafik - Spårväg 5</td>\n",
       "      <td>Göteborg Korsvägen</td>\n",
       "      <td>11.986918</td>\n",
       "      <td>57.696742</td>\n",
       "      <td>Göteborg Varmfrontsgatan</td>\n",
       "      <td>2025-01-07</td>\n",
       "      <td>15:26:00</td>\n",
       "    </tr>\n",
       "  </tbody>\n",
       "</table>\n",
       "<p>204 rows × 7 columns</p>\n",
       "</div>"
      ],
      "text/plain": [
       "                       name                stop        lon        lat  \\\n",
       "0    Länstrafik - Spårväg 8  Göteborg Korsvägen  11.986918  57.696742   \n",
       "1      Länstrafik - Buss 63  Göteborg Korsvägen  11.986918  57.696742   \n",
       "2     Länstrafik - Buss RÖD  Göteborg Korsvägen  11.986918  57.696742   \n",
       "3    Länstrafik - Spårväg 5  Göteborg Korsvägen  11.986918  57.696742   \n",
       "4    Länstrafik - Spårväg 4  Göteborg Korsvägen  11.986918  57.696742   \n",
       "..                      ...                 ...        ...        ...   \n",
       "199    Länstrafik - Buss 18  Göteborg Korsvägen  11.986918  57.696742   \n",
       "200   Länstrafik - Buss RÖD  Göteborg Korsvägen  11.986918  57.696742   \n",
       "201   Länstrafik - Buss RÖD  Göteborg Korsvägen  11.986918  57.696742   \n",
       "202  Länstrafik - Spårväg 8  Göteborg Korsvägen  11.986918  57.696742   \n",
       "203  Länstrafik - Spårväg 5  Göteborg Korsvägen  11.986918  57.696742   \n",
       "\n",
       "                         direction        date      time  \n",
       "0    Angered centrum (Göteborg kn)  2025-01-07  14:26:00  \n",
       "1                   Göteborg Heden  2025-01-07  14:26:00  \n",
       "2    Lilla Varholmen (Göteborg kn)  2025-01-07  14:26:00  \n",
       "3         Göteborg Varmfrontsgatan  2025-01-07  14:26:00  \n",
       "4    Angered centrum (Göteborg kn)  2025-01-07  14:27:00  \n",
       "..                             ...         ...       ...  \n",
       "199   Bäckebol Norra (Göteborg kn)  2025-01-07  15:25:00  \n",
       "200  Lilla Varholmen (Göteborg kn)  2025-01-07  15:25:00  \n",
       "201           Önneröd (Härryda kn)  2025-01-07  15:25:00  \n",
       "202  Angered centrum (Göteborg kn)  2025-01-07  15:26:00  \n",
       "203       Göteborg Varmfrontsgatan  2025-01-07  15:26:00  \n",
       "\n",
       "[204 rows x 7 columns]"
      ]
     },
     "execution_count": 61,
     "metadata": {},
     "output_type": "execute_result"
    }
   ],
   "source": [
    "df_timetable_cleaned = df_timetable[[\"name\", \"stop\", \"lon\", \"lat\", \"direction\", \"date\", \"time\"]]\n",
    "df_timetable_cleaned"
   ]
  },
  {
   "cell_type": "code",
   "execution_count": 62,
   "metadata": {},
   "outputs": [
    {
     "data": {
      "text/plain": [
       "name\n",
       "Länstrafik - Spårväg 8    25\n",
       "Länstrafik - Spårväg 2    24\n",
       "Länstrafik - Spårväg 6    24\n",
       "Länstrafik - Buss X4      23\n",
       "Länstrafik - Buss RÖD     18\n",
       "Länstrafik - Buss 18      18\n",
       "Länstrafik - Spårväg 5    13\n",
       "Länstrafik - Buss 63      13\n",
       "Länstrafik - Buss 61      13\n",
       "Länstrafik - Spårväg 4    12\n",
       "Länstrafik - Buss 758      6\n",
       "Länstrafik - Buss 100      5\n",
       "Länstrafik - Buss 300      5\n",
       "Länstrafik - Buss 101      2\n",
       "Flygtransfer - Buss .      2\n",
       "Expressbuss 611            1\n",
       "Name: count, dtype: int64"
      ]
     },
     "execution_count": 62,
     "metadata": {},
     "output_type": "execute_result"
    }
   ],
   "source": [
    "df_timetable_cleaned[\"name\"].value_counts()"
   ]
  }
 ],
 "metadata": {
  "kernelspec": {
   "display_name": ".venv",
   "language": "python",
   "name": "python3"
  },
  "language_info": {
   "codemirror_mode": {
    "name": "ipython",
    "version": 3
   },
   "file_extension": ".py",
   "mimetype": "text/x-python",
   "name": "python",
   "nbconvert_exporter": "python",
   "pygments_lexer": "ipython3",
   "version": "3.11.9"
  }
 },
 "nbformat": 4,
 "nbformat_minor": 2
}
